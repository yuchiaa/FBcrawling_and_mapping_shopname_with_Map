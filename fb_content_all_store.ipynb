{
 "cells": [
  {
   "cell_type": "code",
   "execution_count": 1,
   "metadata": {},
   "outputs": [],
   "source": [
    "import re\n",
    "import emoji\n",
    "import random\n",
    "import pandas as pd\n",
    "from pandas import read_csv\n",
    "from opencc import OpenCC\n",
    "# !pip install emoji"
   ]
  },
  {
   "cell_type": "code",
   "execution_count": 2,
   "metadata": {},
   "outputs": [],
   "source": [
    "# load data\n",
    "df = read_csv('3_fb_crawling_output.csv', encoding='utf8',index_col=0)\n",
    "#df.head()"
   ]
  },
  {
   "cell_type": "code",
   "execution_count": 82,
   "metadata": {},
   "outputs": [],
   "source": [
    "### Remove non-店家 post ###\n",
    "temp_p_lst = []\n",
    "temp_d_lst = []\n",
    "temp_p = ''\n",
    "temp_d = ''\n",
    "\n",
    "for post_content, date_time in zip(df['Description'].astype(str), df['published'].astype(str)):\n",
    "    cc = OpenCC('s2tw') # 簡轉繁\n",
    "    post_content = cc.convert(post_content)\n",
    "    post = post_content.replace(' ','').replace('￼￼','').replace('￼￼￼','').replace('\\n','') \\\n",
    "        .replace('$','').replace('／','').replace('…','').replace('：',':').replace(':',':').replace('%','') \\\n",
    "        .replace(u'\\u3000',u'').replace('▎','').replace('）',')').replace('（','(').replace('O','') \\\n",
    "        .replace('【',' ').replace('】',':').replace('■','').replace('◆','').replace('●','').replace('★','') \\\n",
    "        .replace('1.','').replace('2.','').replace('3.','').replace('4.','').replace('5.','') \\\n",
    "        .replace('6.','').replace('7.','') \\\n",
    "        .replace('\\'','').replace('_','').replace('☆','') \\\n",
    "        .replace('▎','').replace('🁢',' ').replace('-','').replace('◎','')\\\n",
    "        .replace('更多','').replace('分隔線','').replace('NT','') \\\n",
    "        .replace('▎店家:','店家:').replace('▎店　　名:','店家:') \\\n",
    "        .replace('店家/鄰近','店家:').replace('店家/鄰近地標:','店家:').replace('店家鄰近地點:','店家:') \\\n",
    "        .replace('店家/鄰近地點:','店家:') \\\n",
    "        .replace('店名:','店家:').replace('▎店　　家:','店家:').replace(' 店家','店家:')\\\n",
    "        .replace('【店家】','店家:').replace('店家名稱:','店家:').replace('店家資訊:','店家:') \\\n",
    "        .replace('鄰近:','%鄰近地點:').replace('所在地區','%鄰近地點:') \\\n",
    "        .replace('鄰近位置:','%鄰近地點:').replace('地點:','%鄰近地點:') \\\n",
    "        .replace('所在地區/鄰近位置:','%鄰近地點:') \\\n",
    "        .replace('鄰近地點','%鄰近地點').replace('臨近地點:','%鄰近地點:').replace('地址:','%鄰近地點:') \\\n",
    "        .replace('鄰近地區','%鄰近地點').replace('區域','%鄰近地點:').replace('地區/鄰近','%鄰近地點:')\\\n",
    "        .replace('位置:','%鄰近地點:').replace('位置','%鄰近地點:')\\\n",
    "        .replace('拉麵名稱','%.G拉麵名稱').replace('餐點名稱:','%.G拉麵名稱:')\\\n",
    "        .replace('餐點:','%.G拉麵名稱:').replace('拉麵品項:','%.G拉麵名稱')\\\n",
    "        .replace('品項:','%.G拉麵名稱:').replace('品名:','%.G拉麵名稱:')\\\n",
    "        .replace('名稱:','%.G拉麵名稱:').replace('品項價格:','%.G拉麵名稱:')\\\n",
    "        .replace('配置:','Z配置').replace('配　　置','Z配置').replace('配置(','Z配置').replace('▎配置:','Z配置')\\\n",
    "        .replace('心得感想:','Z').replace('感想:','Z').replace('心得:','Z') \\\n",
    "        .replace('完食感受:','Z').replace('完食感想:','Z') \\\n",
    "        .replace('味增','味噌').replace('食八番','食8番').replace('五ノ','五之').replace('総','總')\n",
    "    \n",
    "    if \"店家\" in post[:5]:\n",
    "        temp_p_lst.append(post)\n",
    "\n",
    "        for word in date_time:\n",
    "            temp_d += word\n",
    "            if word == '日':\n",
    "                break\n",
    "        if ('小時' in temp_d) or ('分鐘' in temp_d):\n",
    "            temp_d = '2020年12月2日'\n",
    "        elif ('昨天' in temp_d):\n",
    "            temp_d = '2020年12月1日'\n",
    "        elif '年' not in temp_d:\n",
    "            temp_d = '2020年' + temp_d      \n",
    "        temp_d_lst.append(temp_d)\n",
    "        temp_d = ''\n",
    "        \n",
    "#temp_p_lst\n",
    "#temp_d_lst"
   ]
  },
  {
   "cell_type": "code",
   "execution_count": 351,
   "metadata": {},
   "outputs": [],
   "source": [
    "### 有無標準發文格式分類 ###\n",
    "unorganized_shops = []\n",
    "unorganized_date = []\n",
    "ramen_shop_raw = []\n",
    "ramen_name_raw = []\n",
    "ramen_review_raw = []\n",
    "ramen_date_raw = []\n",
    "\n",
    "for shops, date in zip(temp_p_lst, temp_d_lst):\n",
    "    if ('%'not in shops or 'G' not in shops or 'Z' not in shops \\\n",
    "        or shops.index('Z')>shops.index('G')+80) :\n",
    "        unorganized_shops.append(shops)\n",
    "        unorganized_date.append(date)      \n",
    "    else:\n",
    "        ramen_shop_raw.append(shops[:shops.index('%')]) # 鄰近地點\n",
    "        ramen_name_raw.append(shops[shops.index('G')+1:shops.index('Z')])\n",
    "        ramen_review_raw.append(shops[shops.index('Z')+1:shops.index('Z')+265]+'...')\n",
    "        ramen_date_raw.append(date)"
   ]
  },
  {
   "cell_type": "code",
   "execution_count": 352,
   "metadata": {},
   "outputs": [],
   "source": [
    "#### second filtering\n",
    "unorganized_unorganized_shops = []\n",
    "unorganized_unorganized_date = []\n",
    "\n",
    "for shops, date in zip(unorganized_shops, unorganized_date):\n",
    "    if ('G' in shops and '0' in shops):\n",
    "        ramen_shop_raw.append(shops[:shops.index('%')])\n",
    "        ramen_name_raw.append(shops[shops.index('G')+1 : shops.index('G')+35])\n",
    "        ramen_review_raw.append(shops[shops.index('G')+15 : shops.index('G')+285]+'...')\n",
    "        ramen_date_raw.append(date)\n",
    "    else:\n",
    "        unorganized_unorganized_shops.append(shops)\n",
    "        unorganized_unorganized_date.append(date)"
   ]
  },
  {
   "cell_type": "code",
   "execution_count": 353,
   "metadata": {},
   "outputs": [],
   "source": [
    "### Dealing with shop_name ###\n",
    "ramen_shop_list = []\n",
    "\n",
    "for shops in ramen_shop_raw:\n",
    "    shops.replace('店家','').replace('#','').replace('鄰近','')\n",
    "    if ':' in shops:\n",
    "        shops = shops[shops.index(':')+1:]\n",
    "    shops = emoji.demojize(shops)\n",
    "    shops = shops.replace('／','')\n",
    "    shops = re.sub(':\\S+?:', ' ', shops)\n",
    "    if ':' in shops:\n",
    "        shops = shops[:shops.index(':')]\n",
    "    if len(shops) <= 1:\n",
    "        shops = ''\n",
    "    if '地址' in shops and '用餐' in shops:\n",
    "        if shops.index('地') < shops.index('用'):\n",
    "            ramen_shop_list.append(shops[:shops.index('地')])\n",
    "        else:\n",
    "            ramen_shop_list.append(shops[:shops.index('用')])\n",
    "    elif '地址' in shops:\n",
    "        ramen_shop_list.append(shops[:shops.index('地')])\n",
    "    elif '用餐' in shops:\n",
    "        ramen_shop_list.append(shops[:shops.index('用')])\n",
    "    else:\n",
    "        ramen_shop_list.append(shops)"
   ]
  },
  {
   "cell_type": "code",
   "execution_count": 354,
   "metadata": {},
   "outputs": [],
   "source": [
    "# double check shop_name\n",
    "ramen_shop_list_final = []\n",
    "\n",
    "for shop in ramen_shop_list:\n",
    "    shop = re.sub(r'[^\\w\\s]','',shop)\n",
    "    shop = shop.replace('#','').replace('鄰近','').replace('臨近','').replace('排隊狀況','') \\\n",
    "    .replace('日期','').replace('店家','').replace('附近','').replace('《','').replace('》','') \\\n",
    "    .replace('。','').replace('、',' ').replace('｜','').replace('？','').replace('地區','') \\\n",
    "    .replace('(','').replace(')','').replace('·','').replace('/','').replace('地標','') \\\n",
    "    .replace('※','').replace('ぁ','あ').replace('²','2').replace(' ','')\n",
    "    if len(shop) >= 31:\n",
    "        shop = shop[:31]\n",
    "    if '捷運' in shop:\n",
    "        shop = shop[:shop.index('捷運')]\n",
    "    ramen_shop_list_final.append(shop)  "
   ]
  },
  {
   "cell_type": "code",
   "execution_count": 355,
   "metadata": {},
   "outputs": [],
   "source": [
    "### Dealing with ramen_name ###\n",
    "ramen_name_list = []\n",
    "ramen_name_list_final = []\n",
    "\n",
    "for names in ramen_name_raw:\n",
    "    names = emoji.demojize(names)\n",
    "    names = re.sub(':\\S+?:', ' ', names)\n",
    "    new_name = names.replace('拉麵%.G','').replace('%.G','').replace('#','').replace('鄰近','')\n",
    "    last_ch = new_name[-1]\n",
    "    first_ch = new_name[0]\n",
    "    # ramen_name_list = []\n",
    "    if ('0' in new_name) and ('00' not in new_name) and ('2020' not in new_name) \\\n",
    "        and (last_ch != ')'):\n",
    "        if new_name[-1] == '元' or new_name[-2:] == '日元':\n",
    "            ramen_name_list.append(new_name[:new_name.index('元')+1])\n",
    "        elif new_name[-2:] == '日圓':\n",
    "            ramen_name_list.append(new_name[:new_name.index('圓')+1])\n",
    "        else:\n",
    "            ramen_name_list.append(new_name[:new_name.index('0')+1])\n",
    "    elif '00' in new_name and last_ch != ')' and '2020' not in new_name:\n",
    "        ramen_name_list.append(new_name[:new_name.index('00')+2])\n",
    "    elif first_ch != '拉' and '拉' in new_name:\n",
    "        ramen_name_list.append(new_name[new_name.index('拉'):])\n",
    "    elif '0' not in new_name and '00' not in new_name and '/' not in new_name\\\n",
    "        and last_ch.isdigit() == False and last_ch != '麵' \\\n",
    "        and last_ch != ')'and '+' not in new_name:\n",
    "        new_point =  new_name.replace('麵','麵H').replace('拉麵H名稱','拉麵名稱')\n",
    "        if 'H' in new_point:\n",
    "            ramen_name_list.append(new_point[:new_point.index('H')])\n",
    "        else:\n",
    "            ramen_name_list.append(new_point)\n",
    "    else:\n",
    "        ramen_name_list.append(new_name)\n",
    "\n",
    "# double check ramen_name\n",
    "for name in ramen_name_list:\n",
    "    if ':' in name:\n",
    "        name = name[name.index(':')+1:]\n",
    "    name = name.replace('拉麵名稱/價格','').replace('拉麵名稱','').replace('拉麵名稱價格','').replace('價格','')\n",
    "    ramen_name_list_final.append(name)   "
   ]
  },
  {
   "cell_type": "code",
   "execution_count": 356,
   "metadata": {},
   "outputs": [],
   "source": [
    "### Dealing with review ###\n",
    "ramen_review_list = []\n",
    "ramen_review_list_final = []\n",
    "\n",
    "for name, reviews in zip(ramen_name_list, ramen_review_raw):\n",
    "    new_reviews = reviews.replace('拉麵%.G','').replace('%.G','').replace('%','').replace('$','')\n",
    "    first_few_words = new_reviews[0:6]\n",
    "    if '配置'not in first_few_words:\n",
    "        for i in range(-(len(name)),0,1):\n",
    "            if (name[i:]) == (new_reviews[:-i]):\n",
    "                updated_review = new_reviews[-i:]\n",
    "                ramen_review_list.append(updated_review)\n",
    "                break\n",
    "            elif (i == -1) and (ramen_name_list[i:]) != (ramen_review_raw[:-i]):\n",
    "                pattern=\"[\\u4e00-\\u9fa5]+\" \n",
    "                regex = re.compile(pattern)\n",
    "                results =  regex.findall(new_reviews)\n",
    "                results_to_str =' '.join([str(elem) for elem in results]) \n",
    "                ramen_review_list.append(results_to_str)\n",
    "    else:\n",
    "        ramen_review_list.append(new_reviews)\n",
    "\n",
    "# double check\n",
    "punc = [',' , '.' , '，', '。', ')',' ','……','；','、','\\'','/','?','元']\n",
    "for reviews in ramen_review_list:\n",
    "    if reviews[0] in punc:\n",
    "        reviews = reviews[1:]\n",
    "    ramen_review_list_final.append(reviews)"
   ]
  },
  {
   "cell_type": "code",
   "execution_count": 357,
   "metadata": {},
   "outputs": [],
   "source": [
    "### Create post_id \n",
    "post_id = [i for i in range(len(ramen_shop_list))]\n",
    "random.shuffle(post_id)"
   ]
  },
  {
   "cell_type": "code",
   "execution_count": 358,
   "metadata": {},
   "outputs": [],
   "source": [
    "### Create stem_store_name\n",
    "stem_store = []\n",
    "\n",
    "for store in ramen_shop_list_final:\n",
    "    store = store.lower()\n",
    "    store = re.sub(r'[^\\w\\s]','',store)\n",
    "    store = store.replace('総','總').replace('麺','麵').replace('醤','醬') \\\n",
    "                .replace('鷹流東京豚骨拉麵極匠','鷹流極匠').replace('鷹流東京醬油拉麵蘭丸','鷹流蘭丸').replace('鷹流臺灣本店','鷹流拉麵臺灣本店') \\\n",
    "                .replace('ラーメン','拉麵').replace('らーめん','拉麵').replace('柑橘shin','柑橘shinn').replace('麵屋壹之穴','麵屋壹之穴ichi') \\\n",
    "                .replace('の','之').replace('aqua2','').replace('麵鋪','麵舖').replace('台湾','臺灣').replace('番茄','蕃茄').replace('台','臺')  \n",
    "    stem_store.append(store)"
   ]
  },
  {
   "cell_type": "code",
   "execution_count": 359,
   "metadata": {},
   "outputs": [],
   "source": [
    "#### Output_csv\n",
    "df_output = pd.DataFrame(list(zip(*[post_id, ramen_shop_list_final, stem_store, temp_d_lst, ramen_name_list_final, ramen_review_list_final])))\n",
    "col_names = ['post_id', 'stores', 'stem_store', 'create_on', 'ramen_name', 'fb_review']\n",
    "df_output.columns = col_names\n",
    "df_output.to_csv('2_output_fb_crawling.csv', index=True)"
   ]
  },
  {
   "cell_type": "markdown",
   "metadata": {},
   "source": [
    "# Grouping store_name (for fb testing only)"
   ]
  },
  {
   "cell_type": "code",
   "execution_count": null,
   "metadata": {},
   "outputs": [],
   "source": [
    "import os, itertools\n",
    "from itertools import groupby"
   ]
  },
  {
   "cell_type": "code",
   "execution_count": 360,
   "metadata": {},
   "outputs": [],
   "source": [
    "df_output = read_csv('2_output_fb_crawling.csv', encoding='utf8',index_col=0)\n",
    "#df_output.head()"
   ]
  },
  {
   "cell_type": "code",
   "execution_count": 361,
   "metadata": {},
   "outputs": [
    {
     "name": "stderr",
     "output_type": "stream",
     "text": [
      "/Users/yuchiacheng/anaconda3/lib/python3.7/site-packages/ipykernel_launcher.py:5: UserWarning: Boolean Series key will be reindexed to match DataFrame index.\n",
      "  \"\"\"\n",
      "/Users/yuchiacheng/anaconda3/lib/python3.7/site-packages/ipykernel_launcher.py:6: UserWarning: Boolean Series key will be reindexed to match DataFrame index.\n",
      "  \n"
     ]
    }
   ],
   "source": [
    "df_output[\"stores_len\"] = df_output[\"stores\"].str.len()\n",
    "df_output[\"ramen_name_len\"] = df_output[\"ramen_name\"].str.len() \n",
    "df_output[\"fb_review_len\"] = df_output[\"fb_review\"].str.len() \n",
    "df_output_ = df_output[(df_output['stores_len'] > 1.0)]\n",
    "df_output_ = df_output_[(df_output['ramen_name_len'] > 1.0)]\n",
    "df_output_ = df_output_[(df_output['fb_review_len'] > 2.0)]"
   ]
  },
  {
   "cell_type": "code",
   "execution_count": 362,
   "metadata": {},
   "outputs": [],
   "source": [
    "df_new = df_output_.sort_values(by=['stores', 'ramen_name_len'])\n",
    "df_new = df_new.reset_index(drop=True)\n",
    "df_new = df_new.drop(columns=['stores_len','ramen_name_len','fb_review_len'])\n",
    "df_new = df_new.sort_index(axis=0 ,ascending=True)\n",
    "df_new = df_new.iloc[::-1]\n",
    "df_new = df_new.reset_index(drop=True)\n",
    "#df_new"
   ]
  },
  {
   "cell_type": "code",
   "execution_count": 364,
   "metadata": {},
   "outputs": [],
   "source": [
    "df_new.to_csv('final_fb_crawling.csv', index=True)"
   ]
  },
  {
   "cell_type": "code",
   "execution_count": 365,
   "metadata": {},
   "outputs": [
    {
     "data": {
      "text/plain": [
       "567"
      ]
     },
     "execution_count": 365,
     "metadata": {},
     "output_type": "execute_result"
    }
   ],
   "source": [
    "stores_input = list(df_new['stem_store'])\n",
    "shop_sorted = sorted(list(set(stores_input)))\n",
    "len(shop_sorted)"
   ]
  },
  {
   "cell_type": "code",
   "execution_count": 382,
   "metadata": {},
   "outputs": [],
   "source": [
    "util_func = lambda x: x[0]  \n",
    "first_sort = [list(ele) for i, ele in groupby(shop_sorted, util_func)] \n",
    "lst = list(itertools.chain(*first_sort))\n",
    "#first_sort"
   ]
  },
  {
   "cell_type": "code",
   "execution_count": 367,
   "metadata": {},
   "outputs": [],
   "source": [
    "unique = []\n",
    "second_sort = []\n",
    "\n",
    "util_func = lambda x: x[1]\n",
    "for item in first_sort:\n",
    "    if len(item) > 1:\n",
    "        temp = sorted(item, key = util_func)\n",
    "        second_sort.append([list(ele) for i, ele in groupby(temp, util_func)])\n",
    "        #second_sort.append([list(g) for _, g in itertools.groupby(item, lambda x: x[1])])\n",
    "    else:\n",
    "        unique.append(item[0])\n",
    "\n",
    "second_sort_len = []\n",
    "\n",
    "for item_1 in second_sort:\n",
    "    for item_2 in item_1: \n",
    "        if len(item_2) > 1:\n",
    "            item_2 = sorted(item_2, key=len)\n",
    "            second_sort_len.append(item_2)\n",
    "        else:\n",
    "            unique.append(item_2[0])"
   ]
  },
  {
   "cell_type": "code",
   "execution_count": 383,
   "metadata": {},
   "outputs": [],
   "source": [
    "# Testing\n",
    "lst = list(itertools.chain(*second_sort_len))\n",
    "#len(lst) # 362\n",
    "#len(unique) # 177"
   ]
  },
  {
   "cell_type": "code",
   "execution_count": 384,
   "metadata": {},
   "outputs": [],
   "source": [
    "third_sort = []\n",
    "\n",
    "util_func = lambda x: x[2]\n",
    "for item in second_sort_len:\n",
    "    if item[0][:2] == '山嵐' or item[0][:3] == '赤麵廠' or item[0][:4] == '麵家三士' \\\n",
    "        or item[0][:4] == '拉麵二郎' or item[0][:3] == '一風堂' or item[0][:4] == '鳥人拉麵' or item[0][:4] == '太陽' \\\n",
    "        or item[0][:4] == '神山拉麵'or item[0][:4] == '赤坂拉麵' or item[0][:4] == '力量拉麵' or item[0][:4]== '京正拉麵':\n",
    "        third_sort.append([item])   \n",
    "    else:\n",
    "        if len(item) > 1 and len(item[0]) >= 3:\n",
    "            temp = sorted(item, key = util_func)\n",
    "            third_sort.append([list(ele) for i, ele in groupby(temp, util_func)])\n",
    "            #third_sort.append([list(g) for _, g in itertools.groupby(item, lambda x: x[2])])\n",
    "        elif len(item) > 1 and len(item[0]) == 2:\n",
    "            third_sort.append([item])\n",
    "        else:\n",
    "            unique.append(item[0])\n",
    "        \n",
    "third_sort_len = []\n",
    "\n",
    "for item_1 in third_sort:\n",
    "    for item_2 in item_1: \n",
    "        if len(item_2) > 1:\n",
    "            item_2 = sorted(item_2, key=len)\n",
    "            third_sort_len.append(item_2)\n",
    "        else:\n",
    "            unique.append(item_2[0])"
   ]
  },
  {
   "cell_type": "code",
   "execution_count": 385,
   "metadata": {},
   "outputs": [],
   "source": [
    "# Testing\n",
    "lst = list(itertools.chain(*third_sort_len))\n",
    "#print(len(lst)) # 362\n",
    "#len(unique) #254"
   ]
  },
  {
   "cell_type": "code",
   "execution_count": 386,
   "metadata": {},
   "outputs": [],
   "source": [
    "fourth_sort = []\n",
    "\n",
    "util_func = lambda x: x[3]\n",
    "for item in third_sort_len:\n",
    "    if item[0][:2] == '山嵐' or item[0][:3] == '赤麵廠' or item[0][:4] == '麵家三士' \\\n",
    "        or item[0][:4] == '拉麵二郎' or item[0][:3] == '一風堂' or item[0][:4] == '鳥人拉麵' or item[0][:4] == '太陽' \\\n",
    "        or item[0][:4] == '神山拉麵'or item[0][:4] == '赤坂拉麵' or item[0][:4] == '力量拉麵' or item[0][:4]== '京正拉麵':\n",
    "        fourth_sort.append([item])   \n",
    "    else:\n",
    "        if len(item) > 1 and len(item[0]) >= 4:\n",
    "            temp = sorted(item, key = util_func)\n",
    "            fourth_sort.append([list(ele) for i, ele in groupby(temp, util_func)])        \n",
    "        elif len(item) > 1 and len(item[0]) <= 3:\n",
    "            fourth_sort.append([item])\n",
    "        else:\n",
    "            unique.append(item[0])\n",
    "\n",
    "fourth_sort_len = []\n",
    "\n",
    "for item_1 in fourth_sort:\n",
    "    for item_2 in item_1: \n",
    "        if len(item_2) > 1:\n",
    "            item_2 = sorted(item_2, key=len)\n",
    "            fourth_sort_len.append(item_2)\n",
    "        else:\n",
    "            unique.append(item_2[0])"
   ]
  },
  {
   "cell_type": "code",
   "execution_count": 387,
   "metadata": {},
   "outputs": [],
   "source": [
    "# Testing\n",
    "lst = list(itertools.chain(*fourth_sort_len))\n",
    "#print(len(lst))\n",
    "#len(unique)"
   ]
  },
  {
   "cell_type": "code",
   "execution_count": 373,
   "metadata": {},
   "outputs": [],
   "source": [
    "done = []\n",
    "unclassified_group = []\n",
    "\n",
    "for item in fourth_sort_len:\n",
    "    grouped = []\n",
    "    unclassified = []\n",
    "    grouped.append(item[0])\n",
    "    for i in range(len(item)-1):\n",
    "        if (item[0] in item[i+1]) or (item[0][:6] in item[i+1]):\n",
    "            grouped.append(item[i+1])\n",
    "        else:\n",
    "            unclassified.append(item[i+1])\n",
    "    done.append(grouped)\n",
    "    if unclassified != []:\n",
    "        unclassified_group.append(unclassified)"
   ]
  },
  {
   "cell_type": "code",
   "execution_count": 388,
   "metadata": {},
   "outputs": [],
   "source": [
    "# Testing\n",
    "lst = list(itertools.chain(*done))\n",
    "#print(len(lst))\n",
    "#print(len(unique))\n",
    "clst = list(itertools.chain(*unclassified_group))\n",
    "#print(len(clst))\n",
    "#unclassified_group"
   ]
  },
  {
   "cell_type": "code",
   "execution_count": 389,
   "metadata": {},
   "outputs": [],
   "source": [
    "for item in unclassified_group:\n",
    "    if len(item) != 1:\n",
    "        temp_grouped = []\n",
    "        temp_unclassified = []\n",
    "        temp_grouped.append(item[0])\n",
    "        temp_unclassified.append(item[0])\n",
    "        for i in range(len(item)-1):\n",
    "            if (item[0] in item[i+1]) or (item[0][:len(item[0])//2] in item[i+1]):\n",
    "                temp_grouped.append(item[i+1])\n",
    "            else:\n",
    "                temp_unclassified.append(item[i+1])\n",
    "        done.append(temp_grouped)\n",
    "        if len(temp_unclassified) >= 2:\n",
    "            print(temp_unclassified)\n",
    "            unique.append(temp_unclassified[:])\n",
    "    else:\n",
    "        unique.append(item[0])"
   ]
  },
  {
   "cell_type": "code",
   "execution_count": 390,
   "metadata": {},
   "outputs": [],
   "source": [
    "lst = list(itertools.chain(*done))\n",
    "#print(len(lst))\n",
    "#print(len(unique))\n",
    "#unique"
   ]
  },
  {
   "cell_type": "code",
   "execution_count": 391,
   "metadata": {},
   "outputs": [],
   "source": [
    "dict_done = {}\n",
    "for i in range(len(done)):\n",
    "    dict_done[i] = done[i]\n",
    "#dict_done"
   ]
  },
  {
   "cell_type": "code",
   "execution_count": 378,
   "metadata": {},
   "outputs": [],
   "source": [
    "store_id = []\n",
    "\n",
    "for store in list(df_new['stem_store']):\n",
    "    for key, v in dict_done.items():\n",
    "        if store in v:\n",
    "            store_id.append(key)\n",
    "            break\n",
    "        elif store in unique:\n",
    "            store_id.append(unique.index(store)+500)\n",
    "            break\n",
    "        elif (store not in unique) and (key == list(dict_done.keys())[-1]):\n",
    "            store_id.append('999')"
   ]
  },
  {
   "cell_type": "code",
   "execution_count": 379,
   "metadata": {},
   "outputs": [],
   "source": [
    "#df_new['store_id'] = store_id\n",
    "df_new.to_csv('store_id_done.csv', index=True)"
   ]
  },
  {
   "cell_type": "code",
   "execution_count": 380,
   "metadata": {},
   "outputs": [],
   "source": []
  }
 ],
 "metadata": {
  "kernelspec": {
   "display_name": "Python 3.7.3 64-bit ('base': conda)",
   "language": "python",
   "name": "python37364bitbasecondaa34aaf43f98b497db7a5252c786d5680"
  },
  "language_info": {
   "codemirror_mode": {
    "name": "ipython",
    "version": 3
   },
   "file_extension": ".py",
   "mimetype": "text/x-python",
   "name": "python",
   "nbconvert_exporter": "python",
   "pygments_lexer": "ipython3",
   "version": "3.7.3"
  }
 },
 "nbformat": 4,
 "nbformat_minor": 2
}
