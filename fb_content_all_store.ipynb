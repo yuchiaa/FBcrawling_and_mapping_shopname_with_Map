{
 "cells": [
  {
   "cell_type": "code",
   "execution_count": 15,
   "metadata": {},
   "outputs": [],
   "source": [
    "import re\n",
    "import emoji\n",
    "import random\n",
    "import pandas as pd\n",
    "from pandas import read_csv\n",
    "from opencc import OpenCC\n",
    "# !pip install emoji"
   ]
  },
  {
   "cell_type": "markdown",
   "metadata": {},
   "source": [
    "# Organizing Facebook Content"
   ]
  },
  {
   "cell_type": "code",
   "execution_count": 16,
   "metadata": {},
   "outputs": [],
   "source": [
    "### load data from Fb_crawling_output\n",
    "df = read_csv('3_fb_crawling_output.csv', encoding='utf8',index_col=0)\n",
    "#df.head()"
   ]
  },
  {
   "cell_type": "code",
   "execution_count": 17,
   "metadata": {},
   "outputs": [],
   "source": [
    "### Remove non-\"店家\" post ###\n",
    "temp_p_lst = []\n",
    "temp_d_lst = []\n",
    "temp_p = ''\n",
    "temp_d = ''\n",
    "\n",
    "for post_content, date_time in zip(df['Description'].astype(str), df['published'].astype(str)):\n",
    "    cc = OpenCC('s2tw') # 簡轉繁\n",
    "    post_content = cc.convert(post_content)\n",
    "    post = post_content.replace(' ','').replace('￼￼','').replace('￼￼￼','').replace('\\n','') \\\n",
    "        .replace('$','').replace('／','').replace('…','').replace('：',':').replace(':',':').replace('%','') \\\n",
    "        .replace(u'\\u3000',u'').replace('▎','').replace('）',')').replace('（','(').replace('O','') \\\n",
    "        .replace('【',' ').replace('】',':').replace('■','').replace('◆','').replace('●','').replace('★','') \\\n",
    "        .replace('1.','').replace('2.','').replace('3.','').replace('4.','').replace('5.','') \\\n",
    "        .replace('6.','').replace('7.','') \\\n",
    "        .replace('\\'','').replace('_','').replace('☆','') \\\n",
    "        .replace('▎','').replace('🁢',' ').replace('-','').replace('◎','')\\\n",
    "        .replace('更多','').replace('分隔線','').replace('NT','') \\\n",
    "        .replace('▎店家:','店家:').replace('▎店　　名:','店家:') \\\n",
    "        .replace('店家/鄰近','店家:').replace('店家/鄰近地標:','店家:').replace('店家鄰近地點:','店家:') \\\n",
    "        .replace('店家/鄰近地點:','店家:') \\\n",
    "        .replace('店名:','店家:').replace('▎店　　家:','店家:').replace(' 店家','店家:')\\\n",
    "        .replace('【店家】','店家:').replace('店家名稱:','店家:').replace('店家資訊:','店家:') \\\n",
    "        .replace('鄰近:','%鄰近地點:').replace('所在地區','%鄰近地點:') \\\n",
    "        .replace('鄰近位置:','%鄰近地點:').replace('地點:','%鄰近地點:') \\\n",
    "        .replace('所在地區/鄰近位置:','%鄰近地點:') \\\n",
    "        .replace('鄰近地點','%鄰近地點').replace('臨近地點:','%鄰近地點:').replace('地址:','%鄰近地點:') \\\n",
    "        .replace('鄰近地區','%鄰近地點').replace('區域','%鄰近地點:').replace('地區/鄰近','%鄰近地點:')\\\n",
    "        .replace('位置:','%鄰近地點:').replace('位置','%鄰近地點:')\\\n",
    "        .replace('拉麵名稱','%.G拉麵名稱').replace('餐點名稱:','%.G拉麵名稱:')\\\n",
    "        .replace('餐點:','%.G拉麵名稱:').replace('拉麵品項:','%.G拉麵名稱')\\\n",
    "        .replace('品項:','%.G拉麵名稱:').replace('品名:','%.G拉麵名稱:')\\\n",
    "        .replace('名稱:','%.G拉麵名稱:').replace('品項價格:','%.G拉麵名稱:')\\\n",
    "        .replace('配置:','Z配置').replace('配　　置','Z配置').replace('配置(','Z配置').replace('▎配置:','Z配置')\\\n",
    "        .replace('心得感想:','Z').replace('感想:','Z').replace('心得:','Z') \\\n",
    "        .replace('完食感受:','Z').replace('完食感想:','Z') \\\n",
    "        .replace('味增','味噌').replace('食八番','食8番').replace('五ノ','五之').replace('総','總')\n",
    "    \n",
    "    if \"店家\" in post[:5]:\n",
    "        temp_p_lst.append(post)\n",
    "\n",
    "        for word in date_time:\n",
    "            temp_d += word\n",
    "            if word == '日':\n",
    "                break\n",
    "        if ('小時' in temp_d) or ('分鐘' in temp_d):\n",
    "            temp_d = '2020年12月2日'   # Change the current date as nedded\n",
    "        elif ('昨天' in temp_d):\n",
    "            temp_d = '2020年12月1日'   # Change the date as nedded\n",
    "        elif '年' not in temp_d:\n",
    "            temp_d = '2020年' + temp_d      \n",
    "        temp_d_lst.append(temp_d)\n",
    "        temp_d = ''"
   ]
  },
  {
   "cell_type": "code",
   "execution_count": 18,
   "metadata": {},
   "outputs": [],
   "source": [
    "### 有無標準發文格式分類 \n",
    "unorganized_shops = []\n",
    "unorganized_date = []\n",
    "ramen_shop_raw = []\n",
    "ramen_name_raw = []\n",
    "ramen_review_raw = []\n",
    "ramen_date_raw = []\n",
    "\n",
    "for shops, date in zip(temp_p_lst, temp_d_lst):\n",
    "    if ('%'not in shops or 'G' not in shops or 'Z' not in shops \\\n",
    "        or shops.index('Z')>shops.index('G')+80) :\n",
    "        unorganized_shops.append(shops)\n",
    "        unorganized_date.append(date)      \n",
    "    else:\n",
    "        ramen_shop_raw.append(shops[:shops.index('%')]) # 鄰近地點\n",
    "        ramen_name_raw.append(shops[shops.index('G')+1:shops.index('Z')])\n",
    "        ramen_review_raw.append(shops[shops.index('Z')+1:shops.index('Z')+265]+'...')\n",
    "        ramen_date_raw.append(date)"
   ]
  },
  {
   "cell_type": "code",
   "execution_count": 19,
   "metadata": {},
   "outputs": [],
   "source": [
    "#### second filtering\n",
    "unorganized_unorganized_shops = []\n",
    "unorganized_unorganized_date = []\n",
    "\n",
    "for shops, date in zip(unorganized_shops, unorganized_date):\n",
    "    if ('G' in shops and '0' in shops):\n",
    "        ramen_shop_raw.append(shops[:shops.index('%')])\n",
    "        ramen_name_raw.append(shops[shops.index('G')+1 : shops.index('G')+35])\n",
    "        ramen_review_raw.append(shops[shops.index('G')+15 : shops.index('G')+285]+'...')\n",
    "        ramen_date_raw.append(date)\n",
    "    else:\n",
    "        unorganized_unorganized_shops.append(shops)\n",
    "        unorganized_unorganized_date.append(date)"
   ]
  },
  {
   "cell_type": "code",
   "execution_count": 20,
   "metadata": {},
   "outputs": [],
   "source": [
    "### Dealing with shop_name\n",
    "ramen_shop_list = []\n",
    "\n",
    "for shops in ramen_shop_raw:\n",
    "    shops.replace('店家','').replace('#','').replace('鄰近','')\n",
    "    if ':' in shops:\n",
    "        shops = shops[shops.index(':')+1:]\n",
    "    shops = emoji.demojize(shops)\n",
    "    shops = shops.replace('／','')\n",
    "    shops = re.sub(':\\S+?:', ' ', shops)\n",
    "    if ':' in shops:\n",
    "        shops = shops[:shops.index(':')]\n",
    "    if len(shops) <= 1:\n",
    "        shops = ''\n",
    "    if '地址' in shops and '用餐' in shops:\n",
    "        if shops.index('地') < shops.index('用'):\n",
    "            ramen_shop_list.append(shops[:shops.index('地')])\n",
    "        else:\n",
    "            ramen_shop_list.append(shops[:shops.index('用')])\n",
    "    elif '地址' in shops:\n",
    "        ramen_shop_list.append(shops[:shops.index('地')])\n",
    "    elif '用餐' in shops:\n",
    "        ramen_shop_list.append(shops[:shops.index('用')])\n",
    "    else:\n",
    "        ramen_shop_list.append(shops)"
   ]
  },
  {
   "cell_type": "code",
   "execution_count": 21,
   "metadata": {},
   "outputs": [],
   "source": [
    "### double check shop_name\n",
    "ramen_shop_list_final = []\n",
    "\n",
    "for shop in ramen_shop_list:\n",
    "    shop = re.sub(r'[^\\w\\s]','',shop)\n",
    "    shop = shop.replace('#','').replace('鄰近','').replace('臨近','').replace('排隊狀況','') \\\n",
    "    .replace('日期','').replace('店家','').replace('附近','').replace('《','').replace('》','') \\\n",
    "    .replace('。','').replace('、',' ').replace('｜','').replace('？','').replace('地區','') \\\n",
    "    .replace('(','').replace(')','').replace('·','').replace('/','').replace('地標','') \\\n",
    "    .replace('※','').replace('ぁ','あ').replace('²','2').replace(' ','')\n",
    "    if len(shop) >= 31:\n",
    "        shop = shop[:31]\n",
    "    if '捷運' in shop:\n",
    "        shop = shop[:shop.index('捷運')]\n",
    "    ramen_shop_list_final.append(shop)  "
   ]
  },
  {
   "cell_type": "code",
   "execution_count": 22,
   "metadata": {},
   "outputs": [],
   "source": [
    "### Dealing with ramen_name \n",
    "ramen_name_list = []\n",
    "ramen_name_list_final = []\n",
    "\n",
    "for names in ramen_name_raw:\n",
    "    names = emoji.demojize(names)\n",
    "    names = re.sub(':\\S+?:', ' ', names)\n",
    "    new_name = names.replace('拉麵%.G','').replace('%.G','').replace('#','').replace('鄰近','')\n",
    "    last_ch = new_name[-1]\n",
    "    first_ch = new_name[0]\n",
    "    # ramen_name_list = []\n",
    "    if ('0' in new_name) and ('00' not in new_name) and ('2020' not in new_name) \\\n",
    "        and (last_ch != ')'):\n",
    "        if new_name[-1] == '元' or new_name[-2:] == '日元':\n",
    "            ramen_name_list.append(new_name[:new_name.index('元')+1])\n",
    "        elif new_name[-2:] == '日圓':\n",
    "            ramen_name_list.append(new_name[:new_name.index('圓')+1])\n",
    "        else:\n",
    "            ramen_name_list.append(new_name[:new_name.index('0')+1])\n",
    "    elif '00' in new_name and last_ch != ')' and '2020' not in new_name:\n",
    "        ramen_name_list.append(new_name[:new_name.index('00')+2])\n",
    "    elif first_ch != '拉' and '拉' in new_name:\n",
    "        ramen_name_list.append(new_name[new_name.index('拉'):])\n",
    "    elif '0' not in new_name and '00' not in new_name and '/' not in new_name\\\n",
    "        and last_ch.isdigit() == False and last_ch != '麵' \\\n",
    "        and last_ch != ')'and '+' not in new_name:\n",
    "        new_point =  new_name.replace('麵','麵H').replace('拉麵H名稱','拉麵名稱')\n",
    "        if 'H' in new_point:\n",
    "            ramen_name_list.append(new_point[:new_point.index('H')])\n",
    "        else:\n",
    "            ramen_name_list.append(new_point)\n",
    "    else:\n",
    "        ramen_name_list.append(new_name)"
   ]
  },
  {
   "cell_type": "code",
   "execution_count": 23,
   "metadata": {},
   "outputs": [],
   "source": [
    "### double check ramen_name\n",
    "for name in ramen_name_list:\n",
    "    if ':' in name:\n",
    "        name = name[name.index(':')+1:]\n",
    "    name = name.replace('拉麵名稱/價格','').replace('拉麵名稱','').replace('拉麵名稱價格','').replace('價格','')\n",
    "    ramen_name_list_final.append(name)  "
   ]
  },
  {
   "cell_type": "code",
   "execution_count": 24,
   "metadata": {},
   "outputs": [],
   "source": [
    "### Dealing with review\n",
    "ramen_review_list = []\n",
    "ramen_review_list_final = []\n",
    "\n",
    "for name, reviews in zip(ramen_name_list, ramen_review_raw):\n",
    "    new_reviews = reviews.replace('拉麵%.G','').replace('%.G','').replace('%','').replace('$','')\n",
    "    first_few_words = new_reviews[0:6]\n",
    "    if '配置'not in first_few_words:\n",
    "        for i in range(-(len(name)),0,1):\n",
    "            if (name[i:]) == (new_reviews[:-i]):\n",
    "                updated_review = new_reviews[-i:]\n",
    "                ramen_review_list.append(updated_review)\n",
    "                break\n",
    "            elif (i == -1) and (ramen_name_list[i:]) != (ramen_review_raw[:-i]):\n",
    "                pattern=\"[\\u4e00-\\u9fa5]+\" \n",
    "                regex = re.compile(pattern)\n",
    "                results =  regex.findall(new_reviews)\n",
    "                results_to_str =' '.join([str(elem) for elem in results]) \n",
    "                ramen_review_list.append(results_to_str)\n",
    "    else:\n",
    "        ramen_review_list.append(new_reviews)"
   ]
  },
  {
   "cell_type": "code",
   "execution_count": 25,
   "metadata": {},
   "outputs": [],
   "source": [
    "### double check review\n",
    "punc = [',' , '.' , '，', '。', ')',' ','……','；','、','\\'','/','?','元']\n",
    "for reviews in ramen_review_list:\n",
    "    if reviews[0] in punc:\n",
    "        reviews = reviews[1:]\n",
    "    ramen_review_list_final.append(reviews)"
   ]
  },
  {
   "cell_type": "code",
   "execution_count": 27,
   "metadata": {},
   "outputs": [
    {
     "data": {
      "text/plain": [
       "'post_id = [i for i in range(len(ramen_shop_list))]\\nrandom.shuffle(post_id)'"
      ]
     },
     "execution_count": 27,
     "metadata": {},
     "output_type": "execute_result"
    }
   ],
   "source": [
    "### Create post_id \n",
    "post_id = ['t3'+ str(i) for i in range(len(ramen_shop_list))]\n",
    "random.shuffle(post_id)\n",
    "'''post_id = [i for i in range(len(ramen_shop_list))]\n",
    "random.shuffle(post_id)'''"
   ]
  },
  {
   "cell_type": "code",
   "execution_count": 29,
   "metadata": {},
   "outputs": [],
   "source": [
    "### Create stem_store_name\n",
    "stem_store = []\n",
    "\n",
    "for store in ramen_shop_list_final:\n",
    "    store = store.lower()\n",
    "    store = re.sub(r'[^\\w\\s]','',store)\n",
    "    store = store.replace('総','總').replace('麺','麵').replace('醤','醬').replace('らーめん七面','七面') \\\n",
    "                .replace('臺南白露','白露').replace('鷹流東京豚骨拉麵極匠','鷹流極匠') \\\n",
    "                .replace('太陽蕃茄EXPRESS','太陽蕃茄拉麵EXPRESS') \\\n",
    "                .replace('鷹流東京醬油拉麵蘭丸','鷹流蘭丸').replace('鷹流臺灣本店','鷹流拉麵臺灣本店') \\\n",
    "                .replace('ラーメン','拉麵').replace('らーめん','拉麵').replace('柑橘shin','柑橘shinn')  \\\n",
    "                .replace('麵屋壹之穴','麵屋壹之穴ichi').replace('の','之').replace('aqua2','') \\\n",
    "                .replace('麵鋪','麵舖').replace('台湾','臺灣').replace('番茄','蕃茄')  \\\n",
    "                .replace('台','臺').replace('麵や青鈴','麵屋青鈴')\n",
    "    stem_store.append(store)"
   ]
  },
  {
   "cell_type": "code",
   "execution_count": 30,
   "metadata": {},
   "outputs": [
    {
     "name": "stderr",
     "output_type": "stream",
     "text": [
      "/Users/yuchiacheng/anaconda3/lib/python3.7/site-packages/ipykernel_launcher.py:9: UserWarning: Boolean Series key will be reindexed to match DataFrame index.\n",
      "  if __name__ == '__main__':\n",
      "/Users/yuchiacheng/anaconda3/lib/python3.7/site-packages/ipykernel_launcher.py:10: UserWarning: Boolean Series key will be reindexed to match DataFrame index.\n",
      "  # Remove the CWD from sys.path while we load stuff.\n"
     ]
    }
   ],
   "source": [
    "#### Output_csv\n",
    "df_output = pd.DataFrame(list(zip(*[post_id, ramen_shop_list_final, stem_store, ramen_date_raw, ramen_name_list_final, ramen_review_list_final])))\n",
    "col_names = ['post_id', 'stores', 'stem_store', 'create_on', 'ramen_name', 'fb_review']\n",
    "df_output.columns = col_names\n",
    "df_output[\"stores_len\"] = df_output[\"stores\"].str.len()\n",
    "df_output[\"ramen_name_len\"] = df_output[\"ramen_name\"].str.len() \n",
    "df_output[\"fb_review_len\"] = df_output[\"fb_review\"].str.len() \n",
    "df_output_ = df_output[(df_output['stores_len'] > 1.0)]\n",
    "df_output_ = df_output_[(df_output['ramen_name_len'] > 1.0)]\n",
    "df_output_ = df_output_[(df_output['fb_review_len'] > 2.0)]\n",
    "\n",
    "df_new = df_output_.sort_values(by=['stores', 'ramen_name_len'])\n",
    "df_new = df_new.reset_index(drop=True)\n",
    "df_new = df_new.drop(columns=['stores_len','ramen_name_len','fb_review_len'])\n",
    "df_new = df_new.sort_index(axis=0 ,ascending=True)\n",
    "df_new = df_new.iloc[::-1]\n",
    "df_new = df_new.reset_index(drop=True)\n",
    "df_new.to_csv('date_2_output_fb_crawling.csv', index=True)"
   ]
  },
  {
   "cell_type": "markdown",
   "metadata": {},
   "source": [
    "# Mapping store_name with Map (create store_id) -> TABLE3"
   ]
  },
  {
   "cell_type": "code",
   "execution_count": 553,
   "metadata": {},
   "outputs": [],
   "source": [
    "import os, itertools\n",
    "from itertools import groupby"
   ]
  },
  {
   "cell_type": "code",
   "execution_count": 809,
   "metadata": {},
   "outputs": [],
   "source": [
    "df_new = read_csv('2_output_fb_crawling.csv', encoding='utf8',index_col=0)\n",
    "stores_input = list(df_new['stem_store'])\n",
    "shop_sorted = sorted(list(set(stores_input)))"
   ]
  },
  {
   "cell_type": "code",
   "execution_count": 783,
   "metadata": {},
   "outputs": [],
   "source": [
    "util_func = lambda x: x[0]  \n",
    "first_sort = [list(ele) for i, ele in groupby(shop_sorted, util_func)] \n",
    "lst = list(itertools.chain(*first_sort))\n",
    "#first_sort"
   ]
  },
  {
   "cell_type": "code",
   "execution_count": 784,
   "metadata": {},
   "outputs": [],
   "source": [
    "### SECOND GROUPING\n",
    "unique = []\n",
    "second_sort = []\n",
    "\n",
    "util_func = lambda x: x[1]\n",
    "for item in first_sort:\n",
    "    if len(item) > 1:\n",
    "        temp = sorted(item, key = util_func)\n",
    "        second_sort.append([list(ele) for i, ele in groupby(temp, util_func)])\n",
    "    else:\n",
    "        unique.append(item[0])\n",
    "\n",
    "second_sort_len = []\n",
    "\n",
    "for item_1 in second_sort:\n",
    "    for item_2 in item_1: \n",
    "        if len(item_2) > 1:\n",
    "            item_2 = sorted(item_2, key=len)\n",
    "            second_sort_len.append(item_2)\n",
    "        else:\n",
    "            unique.append(item_2[0])"
   ]
  },
  {
   "cell_type": "code",
   "execution_count": 786,
   "metadata": {},
   "outputs": [],
   "source": [
    "### THIRD GROUPING\n",
    "third_sort = []\n",
    "\n",
    "util_func = lambda x: x[2]\n",
    "for item in second_sort_len:\n",
    "    if item[0][:2] == '山嵐' or item[0][:3] == '赤麵廠' or item[0][:4] == '麵家三士' \\\n",
    "        or item[0][:4] == '拉麵二郎' or item[0][:3] == '一風堂' or item[0][:4] == '鳥人拉麵' or item[0][:4] == '太陽' \\\n",
    "        or item[0][:4] == '神山拉麵'or item[0][:4] == '赤坂拉麵' or item[0][:4] == '力量拉麵' or item[0][:4]== '京正拉麵':\n",
    "        third_sort.append([item])   \n",
    "    else:\n",
    "        if len(item) > 1 and len(item[0]) >= 3:\n",
    "            temp = sorted(item, key = util_func)\n",
    "            third_sort.append([list(ele) for i, ele in groupby(temp, util_func)])\n",
    "        elif len(item) > 1 and len(item[0]) == 2:\n",
    "            third_sort.append([item])\n",
    "        else:\n",
    "            unique.append(item[0])\n",
    "        \n",
    "third_sort_len = []\n",
    "\n",
    "for item_1 in third_sort:\n",
    "    for item_2 in item_1: \n",
    "        if len(item_2) > 1:\n",
    "            item_2 = sorted(item_2, key=len)\n",
    "            third_sort_len.append(item_2)\n",
    "        else:\n",
    "            unique.append(item_2[0])"
   ]
  },
  {
   "cell_type": "code",
   "execution_count": 788,
   "metadata": {},
   "outputs": [],
   "source": [
    "### FOURTH GROUPING\n",
    "fourth_sort = []\n",
    "\n",
    "util_func = lambda x: x[3]\n",
    "for item in third_sort_len:\n",
    "    if item[0][:2] == '山嵐' or item[0][:3] == '赤麵廠' or item[0][:4] == '麵家三士' \\\n",
    "        or item[0][:4] == '拉麵二郎' or item[0][:3] == '一風堂' or item[0][:4] == '鳥人拉麵' or item[0][:4] == '太陽' \\\n",
    "        or item[0][:4] == '神山拉麵'or item[0][:4] == '赤坂拉麵' or item[0][:4] == '力量拉麵' or item[0][:4]== '京正拉麵':\n",
    "        fourth_sort.append([item])   \n",
    "    else:\n",
    "        if len(item) > 1 and len(item[0]) >= 4:\n",
    "            temp = sorted(item, key = util_func)\n",
    "            fourth_sort.append([list(ele) for i, ele in groupby(temp, util_func)])        \n",
    "        elif len(item) > 1 and len(item[0]) <= 3:\n",
    "            fourth_sort.append([item])\n",
    "        else:\n",
    "            unique.append(item[0])\n",
    "\n",
    "fourth_sort_len = []\n",
    "\n",
    "for item_1 in fourth_sort:\n",
    "    for item_2 in item_1: \n",
    "        if len(item_2) > 1:\n",
    "            item_2 = sorted(item_2, key=len)\n",
    "            fourth_sort_len.append(item_2)\n",
    "        else:\n",
    "            unique.append(item_2[0])"
   ]
  },
  {
   "cell_type": "code",
   "execution_count": 790,
   "metadata": {},
   "outputs": [],
   "source": [
    "done = []\n",
    "unclassified_group = []\n",
    "\n",
    "for item in fourth_sort_len:\n",
    "    grouped = []\n",
    "    unclassified = []\n",
    "    grouped.append(item[0])\n",
    "    for i in range(len(item)-1):\n",
    "        if (item[0] in item[i+1]) or (item[0][:6] in item[i+1]):\n",
    "            grouped.append(item[i+1])\n",
    "        else:\n",
    "            unclassified.append(item[i+1])\n",
    "    done.append(grouped)\n",
    "    if unclassified != []:\n",
    "        unclassified_group.append(unclassified)"
   ]
  },
  {
   "cell_type": "code",
   "execution_count": 792,
   "metadata": {},
   "outputs": [],
   "source": [
    "### FINAL GROUPING\n",
    "for item in unclassified_group:\n",
    "    if len(item) != 1:\n",
    "        temp_grouped = []\n",
    "        temp_unclassified = []\n",
    "        temp_grouped.append(item[0])\n",
    "        for i in range(len(item)-1):\n",
    "            if (item[0] in item[i+1]) or (item[0][:len(item[0])//2] in item[i+1]):\n",
    "                temp_grouped.append(item[i+1])\n",
    "            else:\n",
    "                temp_unclassified.append(item[i+1])\n",
    "        done.append(temp_grouped)\n",
    "        #print(temp_unclassified)\n",
    "        if temp_unclassified != [] and len(temp_unclassified) == 1:\n",
    "            unique.append(temp_unclassified[0])\n",
    "    else:\n",
    "        unique.append(item[0])\n",
    "#unique "
   ]
  },
  {
   "cell_type": "code",
   "execution_count": 794,
   "metadata": {},
   "outputs": [],
   "source": [
    "dict_done = {}\n",
    "for i in range(len(done)):\n",
    "    dict_done[i] = done[i]\n",
    "#dict_done"
   ]
  },
  {
   "cell_type": "code",
   "execution_count": 795,
   "metadata": {},
   "outputs": [],
   "source": [
    "unique_ = []\n",
    "\n",
    "for u in unique:\n",
    "    unique_.append([u])\n",
    "dict_unique = {i: unique_[j] for i,j in zip([ i for i in range(len(dict_done), len(unique)+len(dict_done))], [j for j in range(len(unique))])}"
   ]
  },
  {
   "cell_type": "code",
   "execution_count": 796,
   "metadata": {},
   "outputs": [],
   "source": [
    "dict_fb = dict(dict_done)\n",
    "dict_fb.update(dict_unique)"
   ]
  },
  {
   "cell_type": "code",
   "execution_count": 797,
   "metadata": {},
   "outputs": [],
   "source": [
    "### MAPPING SAME NAME STORE WITH MAP\n",
    "store_id = []\n",
    "\n",
    "for store in list(df_new['stem_store']):\n",
    "    for key, v in dict_fb.items():\n",
    "        if store in v:\n",
    "            store_id.append(key)\n",
    "            break\n",
    "        elif (key == list(dict_fb.keys())[-1]):\n",
    "            store_id.append('9999')"
   ]
  },
  {
   "cell_type": "code",
   "execution_count": 799,
   "metadata": {},
   "outputs": [],
   "source": [
    "df_new['store_id'] = store_id\n",
    "df_new = df_new[['post_id','store_id','stores', 'stem_store','create_on', 'ramen_name', 'fb_review']]\n",
    "df_new.to_csv('store_id_done.csv', index=True)"
   ]
  },
  {
   "cell_type": "code",
   "execution_count": 801,
   "metadata": {},
   "outputs": [],
   "source": [
    "#load map.csv\n",
    "df_table_1 = read_csv('Main_Store.csv', encoding='utf8',index_col=0)\n",
    "map_id = list(df_table_1.index)\n",
    "map_name = list(df_table_1['main_store'])"
   ]
  },
  {
   "cell_type": "code",
   "execution_count": 802,
   "metadata": {},
   "outputs": [],
   "source": [
    "fb_match_id = []\n",
    "\n",
    "for fb_key, fb_v in dict_fb.items():\n",
    "    fb_v[0] = fb_v[0].lower()\n",
    "    fb_v[0] = fb_v[0].replace('の','之')\n",
    "    for m_id, m_name in zip(map_id, map_name):\n",
    "        m_name = m_name.lower()\n",
    "        m_name = m_name.replace('の','之')\n",
    "        if len(fb_v) == 1 and (fb_v[0] == m_name):\n",
    "            fb_match_id.append(m_id)\n",
    "            break\n",
    "        elif (fb_v[0] == m_name):\n",
    "            fb_match_id.append(m_id)\n",
    "            break\n",
    "        elif (len(fb_v) >= 1) and (fb_v[0] in m_name):\n",
    "            fb_match_id.append(m_id)\n",
    "            break\n",
    "        elif (len(fb_v[0]) >= 6) and (fb_v[0][:5] == m_name[:5]):\n",
    "            fb_match_id.append(m_id)\n",
    "            #print(m_name[:6])\n",
    "            break\n",
    "        elif (len(fb_v[0]) >= 5) and (len(fb_v[0]) <= 7) and (fb_v[0][:4] == m_name[:4]):\n",
    "            fb_match_id.append(m_id)\n",
    "            #print(m_name)\n",
    "            break       \n",
    "        elif (m_id == 335):\n",
    "            fb_match_id.append('99999')\n",
    "            break           "
   ]
  },
  {
   "cell_type": "code",
   "execution_count": 810,
   "metadata": {},
   "outputs": [],
   "source": [
    "### CREATE STORE-ID\n",
    "'''\n",
    "IF the store exsits in Table_1 (Main_Store), store_id matches together;\n",
    "Otherwise, the store_id is 10000+number, which means this store only exists in FB's Post.\n",
    "'''\n",
    "table_foreign_key = []\n",
    "\n",
    "for store in list(df_new['stem_store']):\n",
    "    for (fb_k, fb_v), new in zip(dict_fb.items(), fb_match_id):\n",
    "        if store in fb_v and (new != '99999'):\n",
    "            table_foreign_key.append(new)\n",
    "            break\n",
    "        elif (store in fb_v) and (new == '99999'):\n",
    "            table_foreign_key.append(fb_k + 10000)\n",
    "            break\n",
    "        elif (fb_k == list(dict_fb.keys())[-1]) and (store not in fb_v):\n",
    "            table_foreign_key.append('99999')\n",
    "            break"
   ]
  },
  {
   "cell_type": "code",
   "execution_count": 805,
   "metadata": {},
   "outputs": [],
   "source": [
    "### RE-Create post_id \n",
    "post_id = ['t3'+ str(i) for i in range(len(table_foreign_key ))]\n",
    "random.shuffle(post_id)\n",
    "df_new['post_id'] = post_id"
   ]
  },
  {
   "cell_type": "code",
   "execution_count": 807,
   "metadata": {},
   "outputs": [],
   "source": [
    "df_new['store_id'] = table_foreign_key \n",
    "df_t3 = df_new[['post_id','store_id','stores', 'create_on', 'ramen_name', 'fb_review']]\n",
    "df_t3.to_csv('Post.csv', index=False)"
   ]
  },
  {
   "cell_type": "code",
   "execution_count": 4,
   "metadata": {},
   "outputs": [],
   "source": [
    "### Create post_id \n",
    "import pandas as pd\n",
    "post_id = ['T3'+ str(i) for i in range(1,1090)]\n",
    "a = pd.DataFrame({'id':post_id})\n",
    "a.to_csv('t2.csv')"
   ]
  },
  {
   "cell_type": "code",
   "execution_count": null,
   "metadata": {},
   "outputs": [],
   "source": [
    "from datetime import datetime\n",
    "\n",
    "datetime_str = '2020年2月20日'\n",
    "datetime_str = datetime_str [2:]\n",
    "print(datetime_str)\n",
    "datetime_str = datetime_str.replace('年','/').replace('月','/').replace('日','')\n",
    "print(datetime_str)\n",
    "# Convert String ( ‘DD/MM/YY HH:MM:SS ‘) to datetime object\n",
    "datetime_obj = datetime.strptime(datetime_str, '%y/%m/%d')\n",
    "print(datetime_obj.date())"
   ]
  },
  {
   "cell_type": "code",
   "execution_count": 41,
   "metadata": {},
   "outputs": [],
   "source": [
    "from datetime import datetime\n",
    "import pandas as pd\n",
    "from pandas import read_csv\n",
    "\n",
    "df = read_csv('/Users/yuchiacheng/Desktop/FB_Crawling_and_shopname_mapping_with_Map/Tables/Store.csv', encoding='utf8',index_col=0)\n",
    "'''time = df['create_on']\n",
    "\n",
    "\n",
    "data = []\n",
    "\n",
    "for t in time:\n",
    "    tt = t[2:]\n",
    "    tt = tt.replace('年','/').replace('月','/').replace('日','')  \n",
    "    t_obj = datetime.strptime(tt, '%y/%m/%d')\n",
    "    data.append(t_obj.date())\n",
    "    #print(t_obj.date())\n",
    "data\n",
    "df['create_on'] = data'''\n",
    "\n",
    "\n",
    "import pandas as pd\n",
    "post_id = ['222' + str(i) for i in range(1,461)]\n",
    "#a = pd.DataFrame({'id':post_id})\n",
    "#a.to_csv('t2.csv')\n",
    "df['detail_store_id'] = post_id\n",
    "df\n",
    "df.to_csv('Store_new.csv')"
   ]
  },
  {
   "cell_type": "code",
   "execution_count": null,
   "metadata": {},
   "outputs": [],
   "source": [
    "from datetime import datetime\n",
    "\n",
    "datetime_str = '2020年2月20日'\n",
    "datetime_str = datetime_str [2:]\n",
    "print(datetime_str)\n",
    "datetime_str = datetime_str.replace('年','/').replace('月','/').replace('日','')\n",
    "print(datetime_str)\n",
    "# Convert String ( ‘DD/MM/YY HH:MM:SS ‘) to datetime object\n",
    "datetime_obj = datetime.strptime(datetime_str, '%y/%m/%d')\n",
    "print(datetime_obj.date())\n"
   ]
  },
  {
   "cell_type": "code",
   "execution_count": 46,
   "metadata": {},
   "outputs": [],
   "source": [
    "import pandas as pd\n",
    "post_id = []\n",
    "for i in range(1,1090):\n",
    "    if len(str(i)) == 1:\n",
    "        id_ = 'T3' + '0000' + str(i)\n",
    "    elif len(str(i)) == 2:\n",
    "        id_ = 'T3' + '000' + str(i)\n",
    "    elif len(str(i)) == 3:\n",
    "        id_ = 'T3' + '00' + str(i)\n",
    "    elif len(str(i)) == 4:\n",
    "        id_ = 'T3' + '0' + str(i)\n",
    "    elif len(str(i)) == 6:\n",
    "        id_ = 'T3' + str(i)\n",
    "    post_id.append(id_)\n",
    "    \n",
    "        \n",
    "\n",
    "#\n",
    "\n",
    "#df['detail_store_id'] = post_id\n",
    "#df\n",
    "#df.to_csv('Store_new.csv')\n",
    "post_id\n",
    "a = pd.DataFrame({'id':post_id})\n",
    "a.to_csv('t2.csv')"
   ]
  },
  {
   "cell_type": "code",
   "execution_count": null,
   "metadata": {},
   "outputs": [],
   "source": []
  }
 ],
 "metadata": {
  "kernelspec": {
   "display_name": "Python 3.7.3 64-bit ('base': conda)",
   "language": "python",
   "name": "python37364bitbasecondaa34aaf43f98b497db7a5252c786d5680"
  },
  "language_info": {
   "codemirror_mode": {
    "name": "ipython",
    "version": 3
   },
   "file_extension": ".py",
   "mimetype": "text/x-python",
   "name": "python",
   "nbconvert_exporter": "python",
   "pygments_lexer": "ipython3",
   "version": "3.7.3"
  }
 },
 "nbformat": 4,
 "nbformat_minor": 2
}
