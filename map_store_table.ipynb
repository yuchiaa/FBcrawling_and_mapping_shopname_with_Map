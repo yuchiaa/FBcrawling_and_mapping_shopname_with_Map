{
 "cells": [
  {
   "cell_type": "code",
   "execution_count": 1,
   "metadata": {},
   "outputs": [],
   "source": [
    "import re\n",
    "import emoji\n",
    "import random\n",
    "import os, itertools\n",
    "import pandas as pd\n",
    "from pandas import read_csv\n",
    "from itertools import groupby"
   ]
  },
  {
   "cell_type": "code",
   "execution_count": 2,
   "metadata": {},
   "outputs": [],
   "source": [
    "### Load data \n",
    "map_ = read_csv('Map_Ramen_data_with_city.csv', encoding='utf8',index_col=0)\n",
    "map_ = map_.rename(columns = {'discription': 'description', 'mapReview': 'map_review', 'openTime': 'open_time', 'city_name': 'province'})\n",
    "map_ = map_.sort_values(by=['store'])\n",
    "map_ = map_.reset_index(drop=True)\n",
    "map_ = map_.iloc[::-1]\n",
    "map_ = map_.reset_index(drop=True)"
   ]
  },
  {
   "cell_type": "markdown",
   "metadata": {},
   "source": [
    "# Separate main_store and detailed_store"
   ]
  },
  {
   "cell_type": "code",
   "execution_count": 3,
   "metadata": {},
   "outputs": [],
   "source": [
    "### Classify MAIN or DETAILED store\n",
    "map_store = list(map_['store'])\n",
    "detail_store = []\n",
    "stem_detail_store = []\n",
    "\n",
    "# Filter Detailed Store, eg, XXX(新竹店), XXX-台北店, XXX-分店...\n",
    "for s in map_store:\n",
    "    store = s.lower()\n",
    "    store = store.replace('（','(').replace('）',')').replace(u'\\u3000',u'').replace('台','臺').replace('-','#')\n",
    "    if ('高雄夢時代店' in store) or ('林口三井店' in store) or ('樂利店' in store) or ('臺中一中店' in store) or  \\\n",
    "            ('土城日月光店' in store) or ('中山店' in store) or ('高雄五福店' in store) or ('臺中逢甲店' in store) or  \\\n",
    "            ('師大店' in store) or ('竹北店' in store) or ('延吉街店' in store) or ('成功店' in store) or  \\\n",
    "            ('臺北凱撒店' in store) or ('高鐵店' in store) or ('臺中清水店' in store) or ('家樂福店' in store) or  \\\n",
    "            ('新光中港店' in store) or ('臺北信義店' in store) or ('臺中中友店' in store) or ('新竹勝利店' in store) or  \\\n",
    "            ('公館店' in store) or ('一中分店' in store) or ('大潤發店' in store) or ('小北店' in store) or  \\\n",
    "            ('新光三越' in store) or ('微風南山' in store):\n",
    "        detail_store.append(s)\n",
    "        stem_detail_store.append(s[:-3])\n",
    "    elif ('express' in store):\n",
    "        detail_store.append(s)\n",
    "        stem_detail_store.append(s)\n",
    "    else:\n",
    "        if ('(' in store) and (')' in store) and (store[store.index(')')-1] == '店') \\\n",
    "            and ('專賣' not in store) and ('專門' not in store) and ('本店' not in store) and ('總店' not in store):\n",
    "            #print(store)\n",
    "            detail_store.append(s)\n",
    "            stem_detail_store.append(s[:-4])\n",
    "        elif ('#' in store) and ('店' in store[store.index('#'):]) and ('本店' not in store) \\\n",
    "            and ('專門' not in store) and ('本店' not in store) and ('總店' not in store):\n",
    "            detail_store.append(s)\n",
    "            stem_detail_store.append(s[:-4])\n",
    "            #print(store)\n",
    "        elif ('#' in store) and ('街' in store[store.index('#'):]) and '專賣' not in store \\\n",
    "            and ('專門' not in store) and ('本店' not in store) and ('總店' not in store):\n",
    "            detail_store.append(s)\n",
    "            stem_detail_store.append(s[:-4])\n",
    "            #print(store)  \n",
    "        elif len(store) >= 5 and (' ' == store[-4]) and ('店'== store[-1]):\n",
    "            detail_store.append(s) \n",
    "            stem_detail_store.append(s[:-3])\n",
    "        elif ('組' in store[-1]):\n",
    "            detail_store.append(s)\n",
    "            stem_detail_store.append(s[:-3])\n",
    "        elif ('分店' in store) and ('臺灣分店' not in store):\n",
    "            detail_store.append(s)      \n",
    "            stem_detail_store.append(s[:-3])\n",
    "\n",
    "main_store = list(set(map_store) - set(detail_store)) # Main store 285\n",
    "stem_detail_store_ = stem_detail_store # Detailed store 146\n",
    "stem_detail_store = list(set(stem_detail_store)) # set(detailed store) 126\n",
    "all_main_store = list(set(main_store + stem_detail_store)) #  408"
   ]
  },
  {
   "cell_type": "code",
   "execution_count": 4,
   "metadata": {},
   "outputs": [],
   "source": [
    "### Create 2 tables via the 'tag' column (True: detailed store; False: non-detailed store)\n",
    "map_['tag'] = map_.store.isin(detail_store)\n",
    "map_detail = map_.loc[map_['tag'] == True] # 146\n",
    "map_main = map_.loc[map_['tag'] == False] # 285\n",
    "second_main_store = list(map_main['store'])"
   ]
  },
  {
   "cell_type": "code",
   "execution_count": 5,
   "metadata": {},
   "outputs": [],
   "source": [
    "### Text Preprocessing\n",
    "map_store_lst = []\n",
    "detail_map_store_lst = []\n",
    "second_main_store_lst = []\n",
    "\n",
    "def preprocessing(store_table, lst_append):\n",
    "    for s in store_table:\n",
    "        store = re.sub(r'[^\\w\\s]', '', s)\n",
    "        store = store.replace('総','總').replace('麺','麵').replace('醤','醬').replace('ichi','ICHI') \\\n",
    "                        .replace('番茄','蕃茄').replace('太陽蕃茄EXPRESS','太陽蕃茄拉麵EXPRESS') \\\n",
    "                        .replace('#','').replace(' ','').replace(u'\\u3000',u'') \\\n",
    "                        .replace('《','').replace('》','').replace('台湾','臺灣').replace('台','臺') \\\n",
    "                        .replace('らーめん','拉麵').replace('の','之') \\\n",
    "                        .replace('。','').replace('、',' ').replace('｜','') \\\n",
    "                        .replace('？','').replace('ラーメン','拉麵') \\\n",
    "                        .replace('(','').replace(')','').replace('·','').replace('/','') \\\n",
    "                        .replace('aqua2','').replace('麵鋪','麵舖') \\\n",
    "                        .replace('※','').replace('ぁ','あ').replace('²','2')                \n",
    "        lst_append.append(store)       \n",
    "    \n",
    "preprocessing(all_main_store, map_store_lst) # 408\n",
    "shop_sorted = sorted(map_store_lst)\n",
    "preprocessing(stem_detail_store_, detail_map_store_lst) # 146\n",
    "preprocessing(second_main_store, second_main_store_lst) # 285"
   ]
  },
  {
   "cell_type": "code",
   "execution_count": 6,
   "metadata": {
    "scrolled": true
   },
   "outputs": [
    {
     "name": "stderr",
     "output_type": "stream",
     "text": [
      "/Users/yuchiacheng/anaconda3/lib/python3.7/site-packages/ipykernel_launcher.py:2: SettingWithCopyWarning: \n",
      "A value is trying to be set on a copy of a slice from a DataFrame.\n",
      "Try using .loc[row_indexer,col_indexer] = value instead\n",
      "\n",
      "See the caveats in the documentation: http://pandas.pydata.org/pandas-docs/stable/indexing.html#indexing-view-versus-copy\n",
      "  \n",
      "/Users/yuchiacheng/anaconda3/lib/python3.7/site-packages/ipykernel_launcher.py:3: SettingWithCopyWarning: \n",
      "A value is trying to be set on a copy of a slice from a DataFrame.\n",
      "Try using .loc[row_indexer,col_indexer] = value instead\n",
      "\n",
      "See the caveats in the documentation: http://pandas.pydata.org/pandas-docs/stable/indexing.html#indexing-view-versus-copy\n",
      "  This is separate from the ipykernel package so we can avoid doing imports until\n"
     ]
    }
   ],
   "source": [
    "### Merge 'Main store table' and 'Detailed store table' -> 'map_t2'\n",
    "map_detail['stem_store'] = detail_map_store_lst\n",
    "map_main['stem_store'] = second_main_store_lst\n",
    "map_t2 = pd.concat([map_main, map_detail], sort=True)"
   ]
  },
  {
   "cell_type": "markdown",
   "metadata": {},
   "source": [
    "# Table 1 & Grouping Detailed Store"
   ]
  },
  {
   "cell_type": "code",
   "execution_count": 7,
   "metadata": {},
   "outputs": [],
   "source": [
    "### FIRST GROUPING\n",
    "util_func = lambda x: x[0]  \n",
    "first_sort = [list(ele) for i, ele in groupby(shop_sorted, util_func)] \n",
    "lst = list(itertools.chain(*first_sort))"
   ]
  },
  {
   "cell_type": "code",
   "execution_count": 8,
   "metadata": {},
   "outputs": [],
   "source": [
    "### SECOND GROUPING\n",
    "unique = []\n",
    "second_sort = []\n",
    "\n",
    "util_func = lambda x: x[1]\n",
    "for item in first_sort:\n",
    "    if len(item) > 1:\n",
    "        temp = sorted(item, key = util_func)\n",
    "        second_sort.append([list(ele) for i, ele in groupby(temp, util_func)])\n",
    "        #second_sort.append([list(g) for _, g in itertools.groupby(item, lambda x: x[1])])\n",
    "    else:\n",
    "        unique.append(item[0])\n",
    "\n",
    "second_sort_len = []\n",
    "\n",
    "for item_1 in second_sort:\n",
    "    for item_2 in item_1: \n",
    "        if len(item_2) > 1:\n",
    "            item_2 = sorted(item_2, key=len)\n",
    "            second_sort_len.append(item_2)\n",
    "        else:\n",
    "            unique.append(item_2[0])"
   ]
  },
  {
   "cell_type": "code",
   "execution_count": 9,
   "metadata": {},
   "outputs": [],
   "source": [
    "### THIRD GROUPING\n",
    "third_sort = []\n",
    "\n",
    "util_func = lambda x: x[2]\n",
    "for item in second_sort_len:\n",
    "    if item[0][:2] == '山嵐' or item[0][:3] == '赤麵廠' or item[0][:3] == '花月嵐' \\\n",
    "                            or item[0][:4] == '麵屋一燈'or item[0][:3] == '麵屋濃' \\\n",
    "                            or item[0][:4] == '拉麵二郎' or item[0][:3] == '一風堂' \\\n",
    "                            or item[0][:4] == '鳥人拉麵' or item[0][:5] == '滝禾製麵所'\\\n",
    "                            or item[0][:4] == '神山拉麵'or item[0][:4] == '赤坂拉麵' \\\n",
    "                            or item[0][:11] == '鷹流東京醬油拉麵蘭丸':\n",
    "        third_sort.append([item])\n",
    "    else:\n",
    "        if len(item) > 1 and len(item[0]) >= 3:\n",
    "            temp = sorted(item, key = util_func)\n",
    "            third_sort.append([list(ele) for i, ele in groupby(temp, util_func)])\n",
    "        elif len(item) > 1 and len(item[0]) <= 2:\n",
    "            third_sort.append([item])\n",
    "        else:\n",
    "            unique.append(item[0])\n",
    "        \n",
    "third_sort_len = []\n",
    "\n",
    "for item_1 in third_sort:\n",
    "    for item_2 in item_1: \n",
    "        if len(item_2) > 1:\n",
    "            item_2 = sorted(item_2, key=len)\n",
    "            third_sort_len.append(item_2)\n",
    "        else:\n",
    "            unique.append(item_2[0])"
   ]
  },
  {
   "cell_type": "code",
   "execution_count": 10,
   "metadata": {},
   "outputs": [],
   "source": [
    "### FOURTH GROUPING\n",
    "fourth_sort = []\n",
    "\n",
    "util_func = lambda x: x[3]\n",
    "for item in third_sort_len:\n",
    "    if item[0][:2] == '山嵐' or item[0][:3] == '赤麵廠' or item[0][:4] == '麵家三士' \\\n",
    "                            or item[0][:3] == '花月嵐' or item[0][:4] == '麵屋一燈'\\\n",
    "                            or item[0][:4] == '拉麵二郎' or item[0][:3] == '一風堂' \\\n",
    "                            or item[0][:4] == '鳥人拉麵' or item[0][:11] == '鷹流東京醬油拉麵蘭丸' \\\n",
    "                            or item[0][:3] == '麵屋濃' or item[0][:4] == '神山拉麵' \\\n",
    "                            or item[0][:4] == '赤坂拉麵' or item[0][:4] == '力量拉麵' \\\n",
    "                            or item[0][:4]== '京正拉麵'or item[0][:5] == '滝禾製麵所':\n",
    "        fourth_sort.append([item])    \n",
    "    else:\n",
    "        if len(item) > 1 and len(item[0]) >= 4:\n",
    "            temp = sorted(item, key = util_func)\n",
    "            fourth_sort.append([list(ele) for i, ele in groupby(temp, util_func)])        \n",
    "        elif len(item) > 1 and len(item[0]) <= 3:\n",
    "            fourth_sort.append([item])\n",
    "        else:\n",
    "            unique.append(item[0])\n",
    "        \n",
    "fourth_sort_len = []\n",
    "\n",
    "for item_1 in fourth_sort:\n",
    "    for item_2 in item_1: \n",
    "        if len(item_2) > 1:\n",
    "            item_2 = sorted(item_2, key=len)\n",
    "            fourth_sort_len.append(item_2)\n",
    "        else:\n",
    "            unique.append(item_2[0])"
   ]
  },
  {
   "cell_type": "code",
   "execution_count": 11,
   "metadata": {},
   "outputs": [],
   "source": [
    "### FIFTH GROUPING\n",
    "fifth_sort = []\n",
    "\n",
    "util_func = lambda x: x[4]\n",
    "for item in fourth_sort_len:\n",
    "    if item[0][:2] == '山嵐' or item[0][:3] == '赤麵廠' or item[0][:4] == '麵家三士' \\\n",
    "                            or item[0][:3] == '花月嵐' or item[0][:4] == '麵屋一燈' \\\n",
    "                            or item[0][:4] == '拉麵二郎' or item[0][:3] == '一風堂' \\\n",
    "                            or item[0][:4] == '鳥人拉麵' or item[0][:11] == '鷹流東京醬油拉麵蘭丸' \\\n",
    "                            or item[0][:3] == '麵屋濃' or item[0][:4] == '神山拉麵' \\\n",
    "                            or item[0][:4] == '赤坂拉麵' or item[0][:4] == '力量拉麵' \\\n",
    "                            or item[0][:4]== '京正拉麵' or item[0][:5] == '滝禾製麵所':\n",
    "        fifth_sort.append([item])    \n",
    "    else:\n",
    "        if len(item) > 1 and len(item[0]) > 7:\n",
    "            temp = sorted(item, key = util_func)\n",
    "            fifth_sort.append([list(ele) for i, ele in groupby(temp, util_func)])        \n",
    "        elif len(item) > 1 and len(item[0]) <= 4:\n",
    "            fifth_sort.append([item])            \n",
    "        elif len(item) > 1 and len(item[0]) >= 5 and len(item[0]) <= 7:\n",
    "            fifth_sort.append([item])\n",
    "        else:\n",
    "            unique.append(item[0])\n",
    "            \n",
    "fifth_sort_len = []\n",
    "\n",
    "for item_1 in fifth_sort:\n",
    "    for item_2 in item_1: \n",
    "        if len(item_2) > 1:\n",
    "            item_2 = sorted(item_2, key=len)\n",
    "            fifth_sort_len.append(item_2)\n",
    "        else:\n",
    "            unique.append(item_2[0])"
   ]
  },
  {
   "cell_type": "code",
   "execution_count": 12,
   "metadata": {},
   "outputs": [],
   "source": [
    "### Double Check\n",
    "done = []\n",
    "unclassified_group = []\n",
    "\n",
    "for item in fifth_sort_len:\n",
    "    grouped = []\n",
    "    unclassified = []\n",
    "    grouped.append(item[0])\n",
    "    if item[0][:3] == '一風堂' or item[0][:4] == '麵屋一燈':\n",
    "        done.append(item)\n",
    "    elif len(item) <= 3 and len(item[0]) <= 6 and len(item[1]) <= 6:\n",
    "        done.append(item)\n",
    "    else:\n",
    "        for i in range(len(item)-1):\n",
    "            if (item[0] in item[i+1]) or (item[0][:6] in item[i+1]):\n",
    "                grouped.append(item[i+1])\n",
    "            else:\n",
    "                unclassified.append(item[i+1])\n",
    "        done.append(grouped)\n",
    "        if unclassified != []:\n",
    "            unclassified_group.append(unclassified)"
   ]
  },
  {
   "cell_type": "code",
   "execution_count": 13,
   "metadata": {},
   "outputs": [],
   "source": [
    "### Final Check\n",
    "for item in unclassified_group:\n",
    "    if len(item) != 1 and item[0] != 'Mr拉麵絆臺南':\n",
    "        temp_grouped = []\n",
    "        temp_unclassified = []\n",
    "        temp_grouped.append(item[0])\n",
    "        for i in range(len(item)-1):\n",
    "            if (item[0] in item[i+1]) or (item[0][:len(item[0])//2] in item[i+1]):\n",
    "                temp_grouped.append(item[i+1])\n",
    "            else:\n",
    "                temp_unclassified.append(item[i+1])\n",
    "        done.append(temp_grouped)\n",
    "        #print(temp_unclassified)\n",
    "        if temp_unclassified != [] and len(temp_unclassified) == 1:\n",
    "            unique.append(temp_unclassified[0])\n",
    "        elif temp_unclassified != [] and len(temp_unclassified) > 1:\n",
    "            unique.append(temp_unclassified[:len(temp_unclassified)])\n",
    "    elif len(item) != 1 and item[0] == 'Mr拉麵絆臺南':\n",
    "        unique.append(item[0])\n",
    "        unique.append(item[1])\n",
    "    else:\n",
    "        unique.append(item[0])"
   ]
  },
  {
   "cell_type": "code",
   "execution_count": 14,
   "metadata": {},
   "outputs": [],
   "source": [
    "### DICTIONARY OF STORE NAME\n",
    "dict_done = {}\n",
    "for i in range(len(done)):\n",
    "    dict_done[i] = done[i]\n",
    "\n",
    "unique_ = []\n",
    "for u in unique:\n",
    "    unique_.append([u])\n",
    "dict_unique = {i: unique_[j] for i,j in zip([ i for i in range(len(dict_done), len(unique)+len(dict_done))], [j for j in range(len(unique))])}\n",
    "\n",
    "dict_main_map = dict(dict_done)\n",
    "dict_main_map.update(dict_unique)"
   ]
  },
  {
   "cell_type": "code",
   "execution_count": 15,
   "metadata": {},
   "outputs": [],
   "source": [
    "###  OUTPUT Table_1 'Main_Store'\n",
    "table_1_name = []\n",
    "for key, v in dict_main_map.items():\n",
    "    table_1_name.append(v[0])\n",
    "\n",
    "temp = {'main_store': table_1_name}\n",
    "df = pd.DataFrame(temp)\n",
    "df.index.name = 'store_id'\n",
    "#df.to_csv('Main_Store.csv')"
   ]
  },
  {
   "cell_type": "markdown",
   "metadata": {},
   "source": [
    "# Table 2"
   ]
  },
  {
   "cell_type": "code",
   "execution_count": 16,
   "metadata": {},
   "outputs": [],
   "source": [
    "table_2_store_id = []\n",
    "for i in list(map_t2['stem_store']):\n",
    "    for key, v in dict_main_map.items():\n",
    "        if i in v:\n",
    "            table_2_store_id.append(key)\n",
    "            break\n",
    "        elif (key == list(dict_main_map.keys())[-1]):\n",
    "            table_2_store_id.append('9999')\n",
    "            break\n",
    "            \n",
    "map_t2['store_id'] = table_2_store_id\n",
    "map_t2 = map_t2.drop(columns=['stem_store'])"
   ]
  },
  {
   "cell_type": "code",
   "execution_count": 17,
   "metadata": {},
   "outputs": [],
   "source": [
    "### Create detail_store_id\n",
    "detail_store_id = []\n",
    "for i in range(1,len(table_2_store_id)+1):\n",
    "    if len(str(i)) == 1:\n",
    "        id_ = 'T2' + '0000' + str(i)\n",
    "    elif len(str(i)) == 2:\n",
    "        id_ = 'T2' + '000' + str(i)\n",
    "    elif len(str(i)) == 3:\n",
    "        id_ = 'T2' + '00' + str(i)\n",
    "    elif len(str(i)) == 4:\n",
    "        id_ = 'T2' + '0' + str(i)\n",
    "    elif len(str(i)) == 6:\n",
    "        id_ = 'T2' + str(i)\n",
    "    detail_store_id.append(id_)\n",
    "    \n",
    "map_t2['detail_store_id'] = detail_store_id"
   ]
  },
  {
   "cell_type": "code",
   "execution_count": 18,
   "metadata": {},
   "outputs": [],
   "source": [
    "### Create 'still_there' column\n",
    "still_there = ['y' for i in range(len(table_2_store_id))]\n",
    "map_t2['still_there'] = still_there"
   ]
  },
  {
   "cell_type": "code",
   "execution_count": 19,
   "metadata": {},
   "outputs": [],
   "source": [
    "###  OUTPUT Table_2 'Store'\n",
    "map_t2 = map_t2[['detail_store_id','store_id','store', 'still_there', 'address', 'description', 'open_time', 'latitude', 'longtitute',\n",
    "       'map_review', 'region','province', 'soup', 'transport']]\n",
    "#map_t2.to_csv('Store.csv', index=False)"
   ]
  },
  {
   "cell_type": "markdown",
   "metadata": {},
   "source": [
    "# Add 'Others' tag"
   ]
  },
  {
   "cell_type": "code",
   "execution_count": 20,
   "metadata": {},
   "outputs": [],
   "source": [
    "### Add 'Others' tag\n",
    "df = read_csv('soup_tag.csv', encoding='utf8',index_col=0)\n",
    "map_t2 = read_csv('Store.csv', encoding='utf8',index_col=0)\n",
    "\n",
    "soup = list(map_t2['soup'])\n",
    "city = list(map_t2['province'])\n",
    "\n",
    "tag_city = list(df.index)\n",
    "others = list(df['其他'])\n",
    "other_lst = []\n",
    "for w in others:\n",
    "    other_lst.append(w.split(','))\n",
    "\n",
    "soup_others= []\n",
    "for s, c in zip(soup, city):    \n",
    "    if c in tag_city:\n",
    "        for tag in other_lst[tag_city.index(c)]:\n",
    "            if tag in s:\n",
    "                s = s + ' #其他'\n",
    "                soup_others.append(s)\n",
    "                break\n",
    "            elif tag == other_lst[tag_city.index(c)][-1] and (tag not in s):\n",
    "                soup_others.append(s)\n",
    "                break\n",
    "    else:\n",
    "        soup_others.append(s)\n",
    "\n",
    "map_t2['soup'] = soup_others\n",
    "map_t2 = map_t2[['store_id','store', 'still_there','address', 'description', 'open_time', 'latitude', 'longtitute',\n",
    "       'map_review', 'region','province', 'soup','transport']]\n",
    "#map_t2.to_csv('new_Store.csv')"
   ]
  }
 ],
 "metadata": {
  "kernelspec": {
   "display_name": "Python 3.7.3 64-bit ('base': conda)",
   "language": "python",
   "name": "python37364bitbasecondaa34aaf43f98b497db7a5252c786d5680"
  },
  "language_info": {
   "codemirror_mode": {
    "name": "ipython",
    "version": 3
   },
   "file_extension": ".py",
   "mimetype": "text/x-python",
   "name": "python",
   "nbconvert_exporter": "python",
   "pygments_lexer": "ipython3",
   "version": "3.7.3"
  }
 },
 "nbformat": 4,
 "nbformat_minor": 2
}
