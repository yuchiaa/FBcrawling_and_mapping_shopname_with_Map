{
 "cells": [
  {
   "cell_type": "code",
   "execution_count": 974,
   "metadata": {},
   "outputs": [],
   "source": [
    "import re\n",
    "import emoji\n",
    "import random\n",
    "import pandas as pd\n",
    "from pandas import read_csv\n",
    "from opencc import OpenCC\n",
    "import os, itertools\n",
    "from itertools import groupby"
   ]
  },
  {
   "cell_type": "code",
   "execution_count": 975,
   "metadata": {},
   "outputs": [],
   "source": [
    "# load data\n",
    "map_ = read_csv('Map_Ramen_data.csv', encoding='utf8',index_col=0)\n",
    "fb_ = read_csv('store_id_done.csv', encoding='utf8',index_col=0)\n",
    "fb_ = fb_.drop(columns=['store_id','post_id'])\n",
    "#map_.head()"
   ]
  },
  {
   "cell_type": "code",
   "execution_count": 976,
   "metadata": {},
   "outputs": [],
   "source": [
    "map_ = map_.sort_values(by=['store'])\n",
    "map_ = map_.reset_index(drop=True)\n",
    "map_ = map_.sort_index(axis=0 ,ascending=True)\n",
    "map_ = map_.iloc[::-1]\n",
    "map_ = map_.reset_index(drop=True)\n",
    "#map_.head()"
   ]
  },
  {
   "cell_type": "code",
   "execution_count": 977,
   "metadata": {},
   "outputs": [],
   "source": [
    "map_store = list(map_['store'])\n",
    "map_store_lst = []\n",
    "\n",
    "for store in map_store:\n",
    "    store = store.lower()\n",
    "    store = re.sub(r'[^\\w\\s]','',store)\n",
    "    store = store.replace('総','總').replace('麺','麵').replace('醤','醬') \\\n",
    "                    .replace('鷹流東京豚骨拉麵極匠','鷹流極匠').replace('鷹流東京醬油拉麵蘭丸','鷹流蘭丸') \\\n",
    "                    .replace('#','').replace(' ','').replace(u'\\u3000',u'').replace('柑橘shin','柑橘shinn') \\\n",
    "                    .replace('《','').replace('》','').replace('台','臺').replace('らーめん','拉麵').replace('の','之') \\\n",
    "                    .replace('。','').replace('、',' ').replace('｜','').replace('？','').replace('ラーメン','拉麵') \\\n",
    "                    .replace('(','').replace(')','').replace('·','').replace('/','').replace('aqua2','').replace('麵鋪','麵舖') \\\n",
    "                    .replace('※','').replace('ぁ','あ').replace('²','2').replace('台湾','臺灣').replace('番茄','蕃茄') \\\n",
    "                    \n",
    "    map_store_lst.append(store) \n",
    "                                                                              \n",
    "#map_store_lst\n",
    "map_['stem_map_store'] = map_store_lst\n",
    "fb_store = list(fb_['stem_store'])\n",
    "fb_store = sorted(list(set(fb_store)))\n",
    "fb_store\n",
    "all_store = map_store_lst + fb_store\n",
    "shop_sorted = sorted(list(set(all_store)))\n",
    "#shop_sorted"
   ]
  },
  {
   "cell_type": "markdown",
   "metadata": {},
   "source": [
    "# Mapping store names (facebook and Google map)"
   ]
  },
  {
   "cell_type": "code",
   "execution_count": 978,
   "metadata": {},
   "outputs": [],
   "source": [
    "### FIRST GROUPING\n",
    "util_func = lambda x: x[0]  \n",
    "first_sort = [list(ele) for i, ele in groupby(shop_sorted, util_func)] \n",
    "lst = list(itertools.chain(*first_sort))\n",
    "#first_sort"
   ]
  },
  {
   "cell_type": "code",
   "execution_count": 979,
   "metadata": {},
   "outputs": [],
   "source": [
    "### SECOND GROUPING\n",
    "unique = []\n",
    "second_sort = []\n",
    "\n",
    "util_func = lambda x: x[1]\n",
    "for item in first_sort:\n",
    "    if len(item) > 1:\n",
    "        temp = sorted(item, key = util_func)\n",
    "        second_sort.append([list(ele) for i, ele in groupby(temp, util_func)])\n",
    "        #second_sort.append([list(g) for _, g in itertools.groupby(item, lambda x: x[1])])\n",
    "    else:\n",
    "        unique.append(item[0])\n",
    "\n",
    "second_sort_len = []\n",
    "\n",
    "for item_1 in second_sort:\n",
    "    for item_2 in item_1: \n",
    "        if len(item_2) > 1:\n",
    "            item_2 = sorted(item_2, key=len)\n",
    "            second_sort_len.append(item_2)\n",
    "        else:\n",
    "            unique.append(item_2[0])"
   ]
  },
  {
   "cell_type": "code",
   "execution_count": 980,
   "metadata": {},
   "outputs": [],
   "source": [
    "#second_sort_len"
   ]
  },
  {
   "cell_type": "code",
   "execution_count": 981,
   "metadata": {},
   "outputs": [],
   "source": [
    "### THIRD GROUPING\n",
    "third_sort = []\n",
    "\n",
    "util_func = lambda x: x[2]\n",
    "for item in second_sort_len:\n",
    "    if item[0][:2] == '山嵐' or item[0][:3] == '赤麵廠' or item[0][:4] == '麵家三士' \\\n",
    "        or item[0][:4] == '拉麵二郎' or item[0][:3] == '一風堂' or item[0][:4] == '鳥人拉麵' \\\n",
    "        or item[0][:4] == '神山拉麵'or item[0][:4] == '赤坂拉麵':\n",
    "        third_sort.append([item])\n",
    "    else:\n",
    "        if len(item) > 1 and len(item[0]) >= 3:\n",
    "            temp = sorted(item, key = util_func)\n",
    "            third_sort.append([list(ele) for i, ele in groupby(temp, util_func)])\n",
    "            #third_sort.append([list(g) for _, g in itertools.groupby(item, lambda x: x[2])])\n",
    "        elif len(item) > 1 and len(item[0]) <= 2:\n",
    "            third_sort.append([item])\n",
    "        else:\n",
    "            unique.append(item[0])\n",
    "        \n",
    "third_sort_len = []\n",
    "\n",
    "for item_1 in third_sort:\n",
    "    for item_2 in item_1: \n",
    "        if len(item_2) > 1:\n",
    "            item_2 = sorted(item_2, key=len)\n",
    "            third_sort_len.append(item_2)\n",
    "        else:\n",
    "            unique.append(item_2[0])"
   ]
  },
  {
   "cell_type": "code",
   "execution_count": 982,
   "metadata": {},
   "outputs": [],
   "source": [
    "#third_sort_len"
   ]
  },
  {
   "cell_type": "code",
   "execution_count": 983,
   "metadata": {},
   "outputs": [],
   "source": [
    "# Testing\n",
    "lst = list(itertools.chain(*third_sort_len))\n",
    "#print(len(lst)) \n",
    "#len(unique) "
   ]
  },
  {
   "cell_type": "code",
   "execution_count": 984,
   "metadata": {},
   "outputs": [],
   "source": [
    "### FOURTH GROUPING\n",
    "fourth_sort = []\n",
    "\n",
    "util_func = lambda x: x[3]\n",
    "for item in third_sort_len:\n",
    "    if item[0][:2] == '山嵐' or item[0][:3] == '赤麵廠' or item[0][:4] == '麵家三士' \\\n",
    "        or item[0][:4] == '拉麵二郎' or item[0][:3] == '一風堂' or item[0][:4] == '鳥人拉麵' \\\n",
    "        or item[0][:4] == '神山拉麵'or item[0][:4] == '赤坂拉麵' or item[0][:4] == '力量拉麵' or item[0][:4]== '京正拉麵':\n",
    "        fourth_sort.append([item])    \n",
    "    else:\n",
    "        if len(item) > 1 and len(item[0]) >= 4:\n",
    "            temp = sorted(item, key = util_func)\n",
    "            fourth_sort.append([list(ele) for i, ele in groupby(temp, util_func)])        \n",
    "        elif len(item) > 1 and len(item[0]) <= 3:\n",
    "            fourth_sort.append([item])\n",
    "        else:\n",
    "            unique.append(item[0])\n",
    "        \n",
    "fourth_sort_len = []\n",
    "\n",
    "for item_1 in fourth_sort:\n",
    "    for item_2 in item_1: \n",
    "        if len(item_2) > 1:\n",
    "            item_2 = sorted(item_2, key=len)\n",
    "            fourth_sort_len.append(item_2)\n",
    "        else:\n",
    "            unique.append(item_2[0])"
   ]
  },
  {
   "cell_type": "code",
   "execution_count": 985,
   "metadata": {},
   "outputs": [],
   "source": [
    "### FIFTH GROUPING\n",
    "fifth_sort = []\n",
    "\n",
    "util_func = lambda x: x[4]\n",
    "for item in fourth_sort_len:\n",
    "    if item[0][:2] == '山嵐' or item[0][:3] == '赤麵廠' or item[0][:4] == '麵家三士' \\\n",
    "        or item[0][:4] == '拉麵二郎' or item[0][:3] == '一風堂' or item[0][:4] == '鳥人拉麵' \\\n",
    "        or item[0][:4] == '神山拉麵'or item[0][:4] == '赤坂拉麵' or item[0][:4] == '力量拉麵' or item[0][:4]== '京正拉麵':\n",
    "        fifth_sort.append([item])    \n",
    "    else:\n",
    "        if len(item) > 1 and len(item[0]) > 7:\n",
    "            temp = sorted(item, key = util_func)\n",
    "            fifth_sort.append([list(ele) for i, ele in groupby(temp, util_func)])        \n",
    "        elif len(item) > 1 and len(item[0]) <= 4:\n",
    "            fifth_sort.append([item])            \n",
    "        elif len(item) > 1 and len(item[0]) >= 5 and len(item[0]) <= 7:\n",
    "            fifth_sort.append([item])\n",
    "        else:\n",
    "            unique.append(item[0])\n",
    "            \n",
    "\n",
    "fifth_sort_len = []\n",
    "\n",
    "for item_1 in fifth_sort:\n",
    "    for item_2 in item_1: \n",
    "        if len(item_2) > 1:\n",
    "            item_2 = sorted(item_2, key=len)\n",
    "            fifth_sort_len.append(item_2)\n",
    "        else:\n",
    "            unique.append(item_2[0])"
   ]
  },
  {
   "cell_type": "code",
   "execution_count": 986,
   "metadata": {},
   "outputs": [],
   "source": [
    "#fifth_sort_len"
   ]
  },
  {
   "cell_type": "code",
   "execution_count": 987,
   "metadata": {},
   "outputs": [],
   "source": [
    "### CHECK UNIQUE STORE NAME\n",
    "#unique"
   ]
  },
  {
   "cell_type": "code",
   "execution_count": 988,
   "metadata": {},
   "outputs": [],
   "source": [
    "done = []\n",
    "unclassified_group = []\n",
    "\n",
    "for item in fifth_sort_len:\n",
    "    grouped = []\n",
    "    unclassified = []\n",
    "    grouped.append(item[0])\n",
    "    for i in range(len(item)-1):\n",
    "        if (item[0] in item[i+1]) or (item[0][:6] in item[i+1]):\n",
    "            grouped.append(item[i+1])\n",
    "        else:\n",
    "            unclassified.append(item[i+1])\n",
    "    done.append(grouped)\n",
    "    if unclassified != []:\n",
    "        unclassified_group.append(unclassified)"
   ]
  },
  {
   "cell_type": "code",
   "execution_count": 989,
   "metadata": {},
   "outputs": [],
   "source": [
    "# Testing\n",
    "lst = list(itertools.chain(*done))\n",
    "#print(len(lst))\n",
    "#print(len(unique))\n",
    "clst = list(itertools.chain(*unclassified_group))\n",
    "#print(len(clst))\n",
    "#unclassified_group"
   ]
  },
  {
   "cell_type": "code",
   "execution_count": 990,
   "metadata": {},
   "outputs": [],
   "source": [
    "for item in unclassified_group:\n",
    "    if len(item) != 1:\n",
    "        temp_grouped = []\n",
    "        temp_unclassified = []\n",
    "        temp_grouped.append(item[0])\n",
    "        for i in range(len(item)-1):\n",
    "            if (item[0] in item[i+1]) or (item[0][:len(item[0])//2] in item[i+1]):\n",
    "                temp_grouped.append(item[i+1])\n",
    "            else:\n",
    "                temp_unclassified.append(item[i+1])\n",
    "        done.append(temp_grouped)\n",
    "        #print(temp_unclassified)\n",
    "        if temp_unclassified != [] and len(temp_unclassified) == 1:\n",
    "            unique.append(temp_unclassified[0])\n",
    "        elif temp_unclassified != [] and len(temp_unclassified) > 1:\n",
    "            unique.append(temp_unclassified[:len(temp_unclassified)])\n",
    "    else:\n",
    "        unique.append(item[0])\n",
    "#unique "
   ]
  },
  {
   "cell_type": "code",
   "execution_count": 991,
   "metadata": {
    "scrolled": false
   },
   "outputs": [],
   "source": [
    "# Testing\n",
    "lst = list(itertools.chain(*done))\n",
    "#print(len(lst))\n",
    "#print(len(unique))\n",
    "#unique"
   ]
  },
  {
   "cell_type": "code",
   "execution_count": 992,
   "metadata": {},
   "outputs": [],
   "source": [
    "### DICTIONARY OF STORE NAME\n",
    "dict_done = {}\n",
    "for i in range(len(done)):\n",
    "    dict_done[i] = done[i]\n",
    "#dict_done"
   ]
  },
  {
   "cell_type": "code",
   "execution_count": 993,
   "metadata": {},
   "outputs": [
    {
     "output_type": "execute_result",
     "data": {
      "text/plain": [
       "889"
      ]
     },
     "metadata": {},
     "execution_count": 993
    }
   ],
   "source": [
    "### FLATTEN STORE NAME LIST\n",
    "all_name_lst = list(itertools.chain(*done))\n",
    "all_name_lst = all_name_lst + unique\n",
    "len(all_name_lst)"
   ]
  },
  {
   "cell_type": "code",
   "execution_count": 994,
   "metadata": {},
   "outputs": [],
   "source": [
    "### ANNOTATION_MAP\n",
    "map_store_id = []\n",
    "map_idx = []\n",
    "\n",
    "for m in list(map_['stem_map_store']):\n",
    "    for key, v in dict_done.items():\n",
    "        if m in v:\n",
    "            position = v[v.index(m)]\n",
    "            map_store_id.append(all_name_lst.index(position)+1)\n",
    "            map_idx.append(position)\n",
    "            break\n",
    "        elif m in unique:\n",
    "            map_store_id.append(all_name_lst.index(m)+1)\n",
    "            break\n",
    "        elif (m not in unique) and (key == list(dict_done.keys())[-1]):\n",
    "            map_store_id.append('9999')\n",
    "  \n",
    "#map_idx "
   ]
  },
  {
   "cell_type": "code",
   "execution_count": 995,
   "metadata": {},
   "outputs": [
    {
     "output_type": "stream",
     "name": "stdout",
     "text": [
      "230\n230\n"
     ]
    }
   ],
   "source": [
    "print(len(set(map_idx)))\n",
    "print(len(map_idx))"
   ]
  },
  {
   "cell_type": "code",
   "execution_count": 996,
   "metadata": {
    "tags": []
   },
   "outputs": [],
   "source": [
    "### ANNOTATION_FACEBOOK\n",
    "fb_store_id = []\n",
    "\n",
    "for f in list(fb_['stem_store']):\n",
    "    for key, v in dict_done.items():\n",
    "        repeat = list(set(v) & set(map_idx))\n",
    "        if (f in v) and (repeat != []): \n",
    "            fb_store_id.append(all_name_lst.index(repeat[0])+1)   \n",
    "            break\n",
    "        elif (f in v) and (repeat == []):\n",
    "            fb_store_id.append(all_name_lst.index(v[0])+1)\n",
    "            break\n",
    "        elif f in unique:\n",
    "            fb_store_id.append(all_name_lst.index(f)+1)\n",
    "            break\n",
    "        elif (f not in unique) and (key == list(dict_done.keys())[-1]):\n",
    "            fb_store_id.append('9999')\n"
   ]
  },
  {
   "cell_type": "code",
   "execution_count": 997,
   "metadata": {},
   "outputs": [
    {
     "output_type": "execute_result",
     "data": {
      "text/plain": [
       "1258"
      ]
     },
     "metadata": {},
     "execution_count": 997
    }
   ],
   "source": [
    "len(fb_store_id)"
   ]
  },
  {
   "cell_type": "code",
   "execution_count": 998,
   "metadata": {},
   "outputs": [
    {
     "output_type": "execute_result",
     "data": {
      "text/plain": [
       "\"fb_store_id = []\\n\\nfor store in list(fb_['stem_store']):\\n    for key, v in dict_done.items():\\n        if store in v:\\n            fb_store_id.append(key)\\n            break\\n        elif store in unique:\\n            fb_store_id.append(unique.index(store)+500)\\n            break\\n        elif (store not in unique) and (key == list(dict_done.keys())[-1]):\\n            fb_store_id.append('9999')\""
      ]
     },
     "metadata": {},
     "execution_count": 998
    }
   ],
   "source": [
    "### ANNOTATION_FACEBOOK\n",
    "'''fb_store_id = []\n",
    "\n",
    "for store in list(fb_['stem_store']):\n",
    "    for key, v in dict_done.items():\n",
    "        if store in v:\n",
    "            fb_store_id.append(key)\n",
    "            break\n",
    "        elif store in unique:\n",
    "            fb_store_id.append(unique.index(store)+500)\n",
    "            break\n",
    "        elif (store not in unique) and (key == list(dict_done.keys())[-1]):\n",
    "            fb_store_id.append('9999')'''"
   ]
  },
  {
   "cell_type": "code",
   "execution_count": 999,
   "metadata": {},
   "outputs": [
    {
     "output_type": "execute_result",
     "data": {
      "text/plain": [
       "\"map_store_id = []\\n\\nfor store in list(map_['stem_map_store']):\\n    for key, v in dict_done.items():\\n        if store in v:\\n            map_store_id.append(key)\\n            break\\n        elif store in unique:\\n            map_store_id.append(unique.index(store)+500)\\n            break\\n        elif (store not in unique) and (key == list(dict_done.keys())[-1]):\\n            map_store_id.append('9999')\""
      ]
     },
     "metadata": {},
     "execution_count": 999
    }
   ],
   "source": [
    "### ANNOTATION_MAP\n",
    "'''map_store_id = []\n",
    "\n",
    "for store in list(map_['stem_map_store']):\n",
    "    for key, v in dict_done.items():\n",
    "        if store in v:\n",
    "            map_store_id.append(key)\n",
    "            break\n",
    "        elif store in unique:\n",
    "            map_store_id.append(unique.index(store)+500)\n",
    "            break\n",
    "        elif (store not in unique) and (key == list(dict_done.keys())[-1]):\n",
    "            map_store_id.append('9999')'''"
   ]
  },
  {
   "cell_type": "code",
   "execution_count": 1000,
   "metadata": {},
   "outputs": [],
   "source": [
    "### Create post_id \n",
    "post_id = [i for i in range(len(fb_store_id))]\n",
    "random.shuffle(post_id)"
   ]
  },
  {
   "cell_type": "code",
   "execution_count": 1001,
   "metadata": {},
   "outputs": [],
   "source": [
    "### OUTPUT CSV\n",
    "fb_['post_id'] = post_id\n",
    "fb_['store_id'] = fb_store_id\n",
    "map_['store_id'] = map_store_id\n",
    "fb_ = fb_.drop(columns=['stem_store'])\n",
    "map_ = map_.drop(columns=['stem_map_store'])\n",
    "fb_ = fb_[['post_id', 'stores','store_id', 'create_on', 'ramen_name','fb_review']]\n",
    "map_ = map_[['store_id','store', 'address', 'discription', 'openTime', 'latitude', 'longtitute',\n",
    "       'mapReview', 'region', 'soup', 'transport']]\n",
    "fb_.to_csv('fb_store_id_done.csv', index=False)\n",
    "map_.to_csv('map_store_id_done.csv', index=False)"
   ]
  },
  {
   "cell_type": "code",
   "execution_count": 1002,
   "metadata": {},
   "outputs": [],
   "source": [
    "#map_.columns"
   ]
  },
  {
   "cell_type": "code",
   "execution_count": 1003,
   "metadata": {},
   "outputs": [
    {
     "output_type": "execute_result",
     "data": {
      "text/plain": [
       "378"
      ]
     },
     "metadata": {},
     "execution_count": 1003
    }
   ],
   "source": [
    "len(set(fb_store_id))"
   ]
  },
  {
   "cell_type": "code",
   "execution_count": null,
   "metadata": {},
   "outputs": [],
   "source": []
  }
 ],
 "metadata": {
  "kernelspec": {
   "display_name": "Python 3.7.3 64-bit ('base': conda)",
   "language": "python",
   "name": "python37364bitbasecondaa34aaf43f98b497db7a5252c786d5680"
  },
  "language_info": {
   "codemirror_mode": {
    "name": "ipython",
    "version": 3
   },
   "file_extension": ".py",
   "mimetype": "text/x-python",
   "name": "python",
   "nbconvert_exporter": "python",
   "pygments_lexer": "ipython3",
   "version": "3.7.3-final"
  }
 },
 "nbformat": 4,
 "nbformat_minor": 2
}