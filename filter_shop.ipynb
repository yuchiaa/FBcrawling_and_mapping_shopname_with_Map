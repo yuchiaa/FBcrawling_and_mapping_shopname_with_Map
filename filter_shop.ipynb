{
 "cells": [
  {
   "cell_type": "code",
   "execution_count": 229,
   "metadata": {},
   "outputs": [],
   "source": [
    "import re\n",
    "import emoji\n",
    "import random\n",
    "import pandas as pd\n",
    "from pandas import read_csv\n",
    "import os, itertools\n",
    "from itertools import groupby"
   ]
  },
  {
   "cell_type": "code",
   "execution_count": 230,
   "metadata": {},
   "outputs": [],
   "source": [
    "# load data\n",
    "map_ = read_csv('Map_Ramen_data.csv', encoding='utf8',index_col=0)\n",
    "fb_ = read_csv('store_id_done.csv', encoding='utf8',index_col=0)\n",
    "fb_ = fb_.drop(columns=['store_id','post_id'])\n",
    "map_ = map_.rename(columns = {'discription': 'description', 'mapReview': 'map_review', 'openTime': 'open_time'})\n",
    "#map_"
   ]
  },
  {
   "cell_type": "code",
   "execution_count": 231,
   "metadata": {},
   "outputs": [],
   "source": [
    "map_ = map_.sort_values(by=['store'])\n",
    "map_ = map_.reset_index(drop=True)\n",
    "map_ = map_.sort_index(axis=0 ,ascending=True)\n",
    "map_ = map_.iloc[::-1]\n",
    "map_ = map_.reset_index(drop=True)\n",
    "#map_"
   ]
  },
  {
   "cell_type": "code",
   "execution_count": 232,
   "metadata": {},
   "outputs": [],
   "source": [
    "### Classify MAIN or DETAILED store\n",
    "map_store = list(map_['store'])\n",
    "detail_store = []\n",
    "stem_detail_store = []\n",
    "\n",
    "for s in map_store:\n",
    "    store = s.lower()\n",
    "    store = store.replace('（','(').replace('）',')').replace(u'\\u3000',u'').replace('台','臺').replace('-','#')\n",
    "    if ('高雄夢時代店' in store) or ('林口三井店' in store) or ('樂利店' in store) or ('臺中一中店' in store) or  \\\n",
    "            ('土城日月光店' in store) or ('中山店' in store) or ('高雄五福店' in store) or ('臺中逢甲店' in store) or  \\\n",
    "            ('師大店' in store) or ('竹北店' in store) or ('延吉街店' in store) or ('成功店' in store) or  \\\n",
    "            ('臺北凱撒店' in store) or ('高鐵店' in store) or ('臺中清水店' in store) or ('家樂福店' in store) or  \\\n",
    "            ('新光中港店' in store) or ('臺北信義店' in store) or ('臺中中友店' in store) or ('新竹勝利店' in store) or  \\\n",
    "            ('公館店' in store) or ('一中分店' in store) or ('大潤發店' in store) or ('小北店' in store) or  \\\n",
    "            ('新光三越' in store) or ('微風南山' in store):\n",
    "        detail_store.append(s)\n",
    "        stem_detail_store.append(s[:-3])\n",
    "    elif ('express' in store):\n",
    "        detail_store.append(s)\n",
    "        stem_detail_store.append(s)\n",
    "    else:\n",
    "        if ('(' in store) and (')' in store) and (store[store.index(')')-1] == '店') \\\n",
    "            and ('專賣' not in store) and ('專門' not in store) and ('本店' not in store) and ('總店' not in store):\n",
    "            #print(store)\n",
    "            detail_store.append(s)\n",
    "            stem_detail_store.append(s[:-4])\n",
    "        elif ('#' in store) and ('店' in store[store.index('#'):]) and ('本店' not in store) \\\n",
    "            and ('專門' not in store) and ('本店' not in store) and ('總店' not in store):\n",
    "            detail_store.append(s)\n",
    "            stem_detail_store.append(s[:-4])\n",
    "            #print(store)\n",
    "        elif ('#' in store) and ('街' in store[store.index('#'):]) and '專賣' not in store \\\n",
    "            and ('專門' not in store) and ('本店' not in store) and ('總店' not in store):\n",
    "            detail_store.append(s)\n",
    "            stem_detail_store.append(s[:-4])\n",
    "            #print(store)  \n",
    "        elif len(store) >= 5 and (' ' == store[-4]) and ('店'== store[-1]):\n",
    "            detail_store.append(s) \n",
    "            stem_detail_store.append(s[:-3])\n",
    "        elif ('組' in store[-1]):\n",
    "            detail_store.append(s)\n",
    "            stem_detail_store.append(s[:-3])\n",
    "        elif ('分店' in store) and ('臺灣分店' not in store):\n",
    "            detail_store.append(s)      \n",
    "            stem_detail_store.append(s[:-3])\n",
    "\n",
    "#detail_store\n",
    "\n",
    "main_store = list(set(map_store) - set(detail_store))\n",
    "#print(len(main_store)) #285\n",
    "stem_detail_store_ = stem_detail_store\n",
    "#print(len(stem_detail_store_)) #146\n",
    "stem_detail_store = list(set(stem_detail_store))\n",
    "all_main_store = list(set(main_store + stem_detail_store))\n",
    "#print(len(set(map_store)))\n",
    "#main_store"
   ]
  },
  {
   "cell_type": "code",
   "execution_count": 233,
   "metadata": {},
   "outputs": [],
   "source": [
    "#len(detail_store) #  145\n",
    "#len(stem_detail_store) # 145 -> 125\n",
    "#len(main_store) # 286\n",
    "#len(all_main_store) # 408\n",
    "#detail_store"
   ]
  },
  {
   "cell_type": "code",
   "execution_count": 234,
   "metadata": {},
   "outputs": [],
   "source": [
    "map_['tag'] = map_.store.isin(detail_store)\n",
    "map_detail = map_.loc[map_['tag'] == True]\n",
    "map_main = map_.loc[map_['tag'] == False]\n",
    "second_main_store = list(map_main['store'])"
   ]
  },
  {
   "cell_type": "code",
   "execution_count": 235,
   "metadata": {},
   "outputs": [],
   "source": [
    "map_store_lst = []\n",
    "\n",
    "for s in all_main_store:\n",
    "    store = re.sub(r'[^\\w\\s]','',s)\n",
    "    store = store.replace('総','總').replace('麺','麵').replace('醤','醬').replace('ichi','ICHI').replace('番茄','蕃茄')  \\\n",
    "                    .replace('#','').replace(' ','').replace(u'\\u3000',u'').replace('太陽蕃茄EXPRESS','太陽蕃茄拉麵EXPRESS') \\\n",
    "                    .replace('《','').replace('》','').replace('台','臺').replace('らーめん','拉麵').replace('の','之') \\\n",
    "                    .replace('。','').replace('、',' ').replace('｜','').replace('？','').replace('ラーメン','拉麵') \\\n",
    "                    .replace('(','').replace(')','').replace('·','').replace('/','').replace('aqua2','').replace('麵鋪','麵舖') \\\n",
    "                    .replace('※','').replace('ぁ','あ').replace('²','2').replace('台湾','臺灣')                \n",
    "    map_store_lst.append(store) \n",
    "shop_sorted = sorted(map_store_lst)\n",
    "\n",
    "detail_map_store_lst = []\n",
    "for s in stem_detail_store_:\n",
    "    store = re.sub(r'[^\\w\\s]','',s)\n",
    "    store = store.replace('総','總').replace('麺','麵').replace('醤','醬').replace('ichi','ICHI').replace('番茄','蕃茄')  \\\n",
    "                    .replace('#','').replace(' ','').replace(u'\\u3000',u'').replace('太陽蕃茄EXPRESS','太陽蕃茄拉麵EXPRESS') \\\n",
    "                    .replace('《','').replace('》','').replace('台','臺').replace('らーめん','拉麵').replace('の','之') \\\n",
    "                    .replace('。','').replace('、',' ').replace('｜','').replace('？','').replace('ラーメン','拉麵') \\\n",
    "                    .replace('(','').replace(')','').replace('·','').replace('/','').replace('aqua2','').replace('麵鋪','麵舖') \\\n",
    "                    .replace('※','').replace('ぁ','あ').replace('²','2').replace('台湾','臺灣')                \n",
    "    detail_map_store_lst.append(store) \n",
    "\n",
    "second_main_store_lst = []    \n",
    "for s in list(second_main_store):\n",
    "    store = re.sub(r'[^\\w\\s]','',s)\n",
    "    store = store.replace('総','總').replace('麺','麵').replace('醤','醬').replace('ichi','ICHI').replace('番茄','蕃茄')  \\\n",
    "                    .replace('#','').replace(' ','').replace(u'\\u3000',u'').replace('太陽蕃茄EXPRESS','太陽蕃茄拉麵EXPRESS') \\\n",
    "                    .replace('《','').replace('》','').replace('台','臺').replace('らーめん','拉麵').replace('の','之') \\\n",
    "                    .replace('。','').replace('、',' ').replace('｜','').replace('？','').replace('ラーメン','拉麵') \\\n",
    "                    .replace('(','').replace(')','').replace('·','').replace('/','').replace('aqua2','').replace('麵鋪','麵舖') \\\n",
    "                    .replace('※','').replace('ぁ','あ').replace('²','2').replace('台湾','臺灣')                \n",
    "    second_main_store_lst.append(store)  \n",
    "    "
   ]
  },
  {
   "cell_type": "code",
   "execution_count": 236,
   "metadata": {},
   "outputs": [
    {
     "name": "stderr",
     "output_type": "stream",
     "text": [
      "/Users/yuchiacheng/anaconda3/lib/python3.7/site-packages/ipykernel_launcher.py:2: SettingWithCopyWarning: \n",
      "A value is trying to be set on a copy of a slice from a DataFrame.\n",
      "Try using .loc[row_indexer,col_indexer] = value instead\n",
      "\n",
      "See the caveats in the documentation: http://pandas.pydata.org/pandas-docs/stable/indexing.html#indexing-view-versus-copy\n",
      "  \n",
      "/Users/yuchiacheng/anaconda3/lib/python3.7/site-packages/ipykernel_launcher.py:3: SettingWithCopyWarning: \n",
      "A value is trying to be set on a copy of a slice from a DataFrame.\n",
      "Try using .loc[row_indexer,col_indexer] = value instead\n",
      "\n",
      "See the caveats in the documentation: http://pandas.pydata.org/pandas-docs/stable/indexing.html#indexing-view-versus-copy\n",
      "  This is separate from the ipykernel package so we can avoid doing imports until\n"
     ]
    }
   ],
   "source": [
    "second_main_store_lst\n",
    "map_detail['stem_store'] = detail_map_store_lst\n",
    "map_main['stem_store'] = second_main_store_lst\n",
    "map_t2 = pd.concat([map_main, map_detail], sort=True)\n",
    "#map_t2"
   ]
  },
  {
   "cell_type": "code",
   "execution_count": 237,
   "metadata": {},
   "outputs": [],
   "source": [
    "### FIRST GROUPING\n",
    "util_func = lambda x: x[0]  \n",
    "first_sort = [list(ele) for i, ele in groupby(shop_sorted, util_func)] \n",
    "lst = list(itertools.chain(*first_sort))\n",
    "#first_sort"
   ]
  },
  {
   "cell_type": "code",
   "execution_count": 238,
   "metadata": {},
   "outputs": [],
   "source": [
    "### SECOND GROUPING\n",
    "unique = []\n",
    "second_sort = []\n",
    "\n",
    "util_func = lambda x: x[1]\n",
    "for item in first_sort:\n",
    "    if len(item) > 1:\n",
    "        temp = sorted(item, key = util_func)\n",
    "        second_sort.append([list(ele) for i, ele in groupby(temp, util_func)])\n",
    "        #second_sort.append([list(g) for _, g in itertools.groupby(item, lambda x: x[1])])\n",
    "    else:\n",
    "        unique.append(item[0])\n",
    "\n",
    "second_sort_len = []\n",
    "\n",
    "for item_1 in second_sort:\n",
    "    for item_2 in item_1: \n",
    "        if len(item_2) > 1:\n",
    "            item_2 = sorted(item_2, key=len)\n",
    "            second_sort_len.append(item_2)\n",
    "        else:\n",
    "            unique.append(item_2[0])\n",
    "#unique"
   ]
  },
  {
   "cell_type": "code",
   "execution_count": 239,
   "metadata": {},
   "outputs": [
    {
     "name": "stdout",
     "output_type": "stream",
     "text": [
      "['一風堂微風', '一風堂桃園', '一風堂微風臺', '一風堂中山本店', '一風堂新光三越店', '一風堂EXPRESS微', '一風堂EXPRESS新竹巨城店']\n",
      "['山嵐拉麵', '山嵐拉麵', '山嵐拉麵一', '山嵐拉麵臺灣總店']\n",
      "['滝禾製麵所內', '滝禾製麵所太', '滝禾製麵所苗']\n",
      "['神山拉麵', '神山拉麵彰', '神山拉麵高']\n",
      "['花月嵐信', '花月嵐松', '花月嵐西', '花月嵐臺北', '花月嵐內湖大', '花月嵐新店家', '花月嵐重新家', '花月嵐拉麵新光', '花月嵐拉麵臺中']\n",
      "['赤麵廠', '赤麵廠新莊總店']\n"
     ]
    }
   ],
   "source": [
    "### THIRD GROUPING\n",
    "third_sort = []\n",
    "\n",
    "util_func = lambda x: x[2]\n",
    "for item in second_sort_len:\n",
    "    if item[0][:2] == '山嵐' or item[0][:3] == '赤麵廠' or item[0][:3] == '花月嵐' or item[0][:4] == '麵屋一燈'or item[0][:3] == '麵屋濃' \\\n",
    "        or item[0][:4] == '拉麵二郎' or item[0][:3] == '一風堂' or item[0][:4] == '鳥人拉麵' or item[0][:5] == '滝禾製麵所'\\\n",
    "        or item[0][:4] == '神山拉麵'or item[0][:4] == '赤坂拉麵' or item[0][:11] == '鷹流東京醬油拉麵蘭丸':\n",
    "        print(item)\n",
    "        third_sort.append([item])\n",
    "    else:\n",
    "        if len(item) > 1 and len(item[0]) >= 3:\n",
    "            temp = sorted(item, key = util_func)\n",
    "            third_sort.append([list(ele) for i, ele in groupby(temp, util_func)])\n",
    "            #third_sort.append([list(g) for _, g in itertools.groupby(item, lambda x: x[2])])\n",
    "        elif len(item) > 1 and len(item[0]) <= 2:\n",
    "            third_sort.append([item])\n",
    "        else:\n",
    "            unique.append(item[0])\n",
    "        \n",
    "third_sort_len = []\n",
    "\n",
    "for item_1 in third_sort:\n",
    "    for item_2 in item_1: \n",
    "        if len(item_2) > 1:\n",
    "            item_2 = sorted(item_2, key=len)\n",
    "            third_sort_len.append(item_2)\n",
    "        else:\n",
    "            unique.append(item_2[0])"
   ]
  },
  {
   "cell_type": "code",
   "execution_count": 240,
   "metadata": {},
   "outputs": [
    {
     "name": "stdout",
     "output_type": "stream",
     "text": [
      "['一風堂微風', '一風堂桃園', '一風堂微風臺', '一風堂中山本店', '一風堂新光三越店', '一風堂EXPRESS微', '一風堂EXPRESS新竹巨城店']\n",
      "['力量拉麵', '力量拉麵仁愛']\n",
      "['山嵐拉麵', '山嵐拉麵', '山嵐拉麵一', '山嵐拉麵臺灣總店']\n",
      "['滝禾製麵所內', '滝禾製麵所太', '滝禾製麵所苗']\n",
      "['神山拉麵', '神山拉麵彰', '神山拉麵高']\n",
      "['花月嵐信', '花月嵐松', '花月嵐西', '花月嵐臺北', '花月嵐內湖大', '花月嵐新店家', '花月嵐重新家', '花月嵐拉麵新光', '花月嵐拉麵臺中']\n",
      "['赤麵廠', '赤麵廠新莊總店']\n",
      "['麵家三士', '麵家三士桃', '麵家三士土城日']\n",
      "['麵屋濃三', '麵屋濃林口']\n"
     ]
    }
   ],
   "source": [
    "### FOURTH GROUPING\n",
    "fourth_sort = []\n",
    "\n",
    "util_func = lambda x: x[3]\n",
    "for item in third_sort_len:\n",
    "    if item[0][:2] == '山嵐' or item[0][:3] == '赤麵廠' or item[0][:4] == '麵家三士' or item[0][:3] == '花月嵐' or item[0][:4] == '麵屋一燈'\\\n",
    "        or item[0][:4] == '拉麵二郎' or item[0][:3] == '一風堂' or item[0][:4] == '鳥人拉麵' or item[0][:11] == '鷹流東京醬油拉麵蘭丸' or item[0][:3] == '麵屋濃' \\\n",
    "        or item[0][:4] == '神山拉麵'or item[0][:4] == '赤坂拉麵' or item[0][:4] == '力量拉麵' or item[0][:4]== '京正拉麵'or item[0][:5] == '滝禾製麵所':\n",
    "        fourth_sort.append([item])    \n",
    "        print(item)\n",
    "    else:\n",
    "        if len(item) > 1 and len(item[0]) >= 4:\n",
    "            temp = sorted(item, key = util_func)\n",
    "            fourth_sort.append([list(ele) for i, ele in groupby(temp, util_func)])        \n",
    "        elif len(item) > 1 and len(item[0]) <= 3:\n",
    "            fourth_sort.append([item])\n",
    "        else:\n",
    "            unique.append(item[0])\n",
    "        \n",
    "fourth_sort_len = []\n",
    "\n",
    "for item_1 in fourth_sort:\n",
    "    for item_2 in item_1: \n",
    "        if len(item_2) > 1:\n",
    "            item_2 = sorted(item_2, key=len)\n",
    "            fourth_sort_len.append(item_2)\n",
    "        else:\n",
    "            unique.append(item_2[0])"
   ]
  },
  {
   "cell_type": "code",
   "execution_count": 241,
   "metadata": {},
   "outputs": [],
   "source": [
    "### FIFTH GROUPING\n",
    "fifth_sort = []\n",
    "\n",
    "util_func = lambda x: x[4]\n",
    "for item in fourth_sort_len:\n",
    "    if item[0][:2] == '山嵐' or item[0][:3] == '赤麵廠' or item[0][:4] == '麵家三士' or item[0][:3] == '花月嵐' or item[0][:4] == '麵屋一燈' \\\n",
    "        or item[0][:4] == '拉麵二郎' or item[0][:3] == '一風堂' or item[0][:4] == '鳥人拉麵' or item[0][:11] == '鷹流東京醬油拉麵蘭丸' or item[0][:3] == '麵屋濃'\\\n",
    "        or item[0][:4] == '神山拉麵'or item[0][:4] == '赤坂拉麵' or item[0][:4] == '力量拉麵' or item[0][:4]== '京正拉麵' or item[0][:5] == '滝禾製麵所':\n",
    "        fifth_sort.append([item])    \n",
    "    else:\n",
    "        if len(item) > 1 and len(item[0]) > 7:\n",
    "            temp = sorted(item, key = util_func)\n",
    "            fifth_sort.append([list(ele) for i, ele in groupby(temp, util_func)])        \n",
    "        elif len(item) > 1 and len(item[0]) <= 4:\n",
    "            fifth_sort.append([item])            \n",
    "        elif len(item) > 1 and len(item[0]) >= 5 and len(item[0]) <= 7:\n",
    "            fifth_sort.append([item])\n",
    "        else:\n",
    "            unique.append(item[0])\n",
    "            \n",
    "\n",
    "fifth_sort_len = []\n",
    "\n",
    "for item_1 in fifth_sort:\n",
    "    for item_2 in item_1: \n",
    "        if len(item_2) > 1:\n",
    "            item_2 = sorted(item_2, key=len)\n",
    "            fifth_sort_len.append(item_2)\n",
    "        else:\n",
    "            unique.append(item_2[0])\n",
    "#fifth_sort_len"
   ]
  },
  {
   "cell_type": "code",
   "execution_count": 242,
   "metadata": {},
   "outputs": [
    {
     "data": {
      "text/plain": [
       "[['Mr拉麵絆臺南', 'Mr拉麵之野崎家'],\n",
       " ['RamenIzakaya空海拉麵'],\n",
       " ['一幻拉麵x胡同居酒屋'],\n",
       " ['中華そば太郎拉麵'],\n",
       " ['東京豚骨拉麵之野崎家'],\n",
       " ['花月嵐松', '花月嵐西', '花月嵐臺北', '花月嵐內湖大', '花月嵐新店家', '花月嵐重新家', '花月嵐拉麵新光', '花月嵐拉麵臺中']]"
      ]
     },
     "execution_count": 242,
     "metadata": {},
     "output_type": "execute_result"
    }
   ],
   "source": [
    "done = []\n",
    "unclassified_group = []\n",
    "\n",
    "for item in fifth_sort_len:\n",
    "    grouped = []\n",
    "    unclassified = []\n",
    "    grouped.append(item[0])\n",
    "    if item[0][:3] == '一風堂' or item[0][:4] == '麵屋一燈':\n",
    "        done.append(item)\n",
    "    elif len(item) <= 3 and len(item[0]) <= 6 and len(item[1]) <= 6:\n",
    "        done.append(item)\n",
    "    else:\n",
    "        for i in range(len(item)-1):\n",
    "            if (item[0] in item[i+1]) or (item[0][:6] in item[i+1]):\n",
    "                grouped.append(item[i+1])\n",
    "            else:\n",
    "                unclassified.append(item[i+1])\n",
    "        done.append(grouped)\n",
    "        if unclassified != []:\n",
    "            unclassified_group.append(unclassified)\n",
    "unclassified_group "
   ]
  },
  {
   "cell_type": "code",
   "execution_count": 243,
   "metadata": {},
   "outputs": [],
   "source": [
    "for item in unclassified_group:\n",
    "    if len(item) != 1 and item[0] != 'Mr拉麵絆臺南':\n",
    "        temp_grouped = []\n",
    "        temp_unclassified = []\n",
    "        temp_grouped.append(item[0])\n",
    "        for i in range(len(item)-1):\n",
    "            if (item[0] in item[i+1]) or (item[0][:len(item[0])//2] in item[i+1]):\n",
    "                temp_grouped.append(item[i+1])\n",
    "            else:\n",
    "                temp_unclassified.append(item[i+1])\n",
    "        done.append(temp_grouped)\n",
    "        #print(temp_unclassified)\n",
    "        if temp_unclassified != [] and len(temp_unclassified) == 1:\n",
    "            unique.append(temp_unclassified[0])\n",
    "        elif temp_unclassified != [] and len(temp_unclassified) > 1:\n",
    "            unique.append(temp_unclassified[:len(temp_unclassified)])\n",
    "    elif len(item) != 1 and item[0] == 'Mr拉麵絆臺南':\n",
    "        unique.append(item[0])\n",
    "        unique.append(item[1])\n",
    "    else:\n",
    "        unique.append(item[0])\n",
    "#unique"
   ]
  },
  {
   "cell_type": "code",
   "execution_count": 244,
   "metadata": {},
   "outputs": [],
   "source": [
    "### DICTIONARY OF STORE NAME\n",
    "dict_done = {}\n",
    "for i in range(len(done)):\n",
    "    dict_done[i] = done[i]\n",
    "#dict_done"
   ]
  },
  {
   "cell_type": "code",
   "execution_count": 245,
   "metadata": {},
   "outputs": [],
   "source": [
    "unique_ = []\n",
    "\n",
    "for u in unique:\n",
    "    unique_.append([u])\n",
    "dict_unique = {i: unique_[j] for i,j in zip([ i for i in range(len(dict_done), len(unique)+len(dict_done))], [j for j in range(len(unique))])}"
   ]
  },
  {
   "cell_type": "code",
   "execution_count": 246,
   "metadata": {},
   "outputs": [],
   "source": [
    "dict_main_map = dict(dict_done)\n",
    "dict_main_map.update(dict_unique)"
   ]
  },
  {
   "cell_type": "code",
   "execution_count": 247,
   "metadata": {},
   "outputs": [],
   "source": [
    "table_1_name = []\n",
    "\n",
    "for key, v in dict_main_map.items():\n",
    "    table_1_name.append(v[0])\n",
    "table_1_name = table_1_name\n",
    "#dict_main_map"
   ]
  },
  {
   "cell_type": "code",
   "execution_count": 248,
   "metadata": {},
   "outputs": [],
   "source": [
    "d = {'main_store': table_1_name}\n",
    "df = pd.DataFrame(d)\n",
    "df.index.name = 'store_id'\n",
    "#df.to_csv('Main_Store.csv')"
   ]
  },
  {
   "cell_type": "markdown",
   "metadata": {},
   "source": [
    "# Table 2"
   ]
  },
  {
   "cell_type": "code",
   "execution_count": 249,
   "metadata": {},
   "outputs": [],
   "source": [
    "table_2_store_id = []\n",
    "for i in list(map_t2['stem_store']):\n",
    "    for key, v in dict_main_map.items():\n",
    "        if i in v:\n",
    "            table_2_store_id.append(key)\n",
    "            break\n",
    "        elif (key == list(dict_main_map.keys())[-1]):\n",
    "            table_2_store_id.append('9999')\n",
    "            break\n",
    "            \n",
    "\n",
    "map_t2['store_id'] = table_2_store_id\n",
    "map_t2 = map_t2.drop(columns=['stem_store'])"
   ]
  },
  {
   "cell_type": "code",
   "execution_count": 250,
   "metadata": {},
   "outputs": [],
   "source": [
    "detail_store_id = []\n",
    "table = 't2'\n",
    "for i in range(len(table_2_store_id)):\n",
    "    name = [table + str(i)]\n",
    "    detail_store_id.append(name[0])\n",
    "\n",
    "map_t2['detail_store_id'] = detail_store_id\n"
   ]
  },
  {
   "cell_type": "code",
   "execution_count": 251,
   "metadata": {},
   "outputs": [],
   "source": [
    "map_t2 = map_t2[['detail_store_id','store_id','store', 'address', 'description', 'open_time', 'latitude', 'longtitute',\n",
    "       'map_review', 'region', 'soup', 'transport']]\n",
    "#map_t2.to_csv('Store.csv', index=False)"
   ]
  }
 ],
 "metadata": {
  "kernelspec": {
   "display_name": "Python 3.7.3 64-bit ('base': conda)",
   "language": "python",
   "name": "python37364bitbasecondaa34aaf43f98b497db7a5252c786d5680"
  },
  "language_info": {
   "codemirror_mode": {
    "name": "ipython",
    "version": 3
   },
   "file_extension": ".py",
   "mimetype": "text/x-python",
   "name": "python",
   "nbconvert_exporter": "python",
   "pygments_lexer": "ipython3",
   "version": "3.7.3"
  }
 },
 "nbformat": 4,
 "nbformat_minor": 2
}
